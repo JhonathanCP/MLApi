{
 "cells": [
  {
   "cell_type": "markdown",
   "source": [
    "Hello this kernel is a work in process.I will be doing an exploratory data analysis and Crime forecasting in this data set.I will be updating this kernel in coming days.If you like my work please do vote."
   ],
   "metadata": {}
  },
  {
   "cell_type": "code",
   "execution_count": 62,
   "source": [
    "#!conda install -c conda-forge fbprophet -y\r\n",
    "#!pip install folium\r\n",
    "#!pip install pystan\r\n",
    "#!pip install seaborn\r\n",
    "\r\n",
    "# This Python 3 environment comes with many helpful analytics libraries installed\r\n",
    "# It is defined by the kaggle/python docker image: https://github.com/kaggle/docker-python\r\n",
    "# For example, here's several helpful packages to load in \r\n",
    "\r\n",
    "import numpy as np # linear algebra\r\n",
    "import pandas as pd # data processing, CSV file I/O (e.g. pd.read_csv)\r\n",
    "\r\n",
    "# Input data files are available in the \"../input/\" directory.\r\n",
    "# For example, running this (by clicking run or pressing Shift+Enter) will list all files under the input directory\r\n",
    "\r\n",
    "import os\r\n",
    "for dirname, _, filenames in os.walk('./'):\r\n",
    "    for filename in filenames:\r\n",
    "        print(os.path.join(dirname, filename))\r\n",
    "\r\n",
    "# Any results you write to the current directory are saved as output."
   ],
   "outputs": [
    {
     "output_type": "stream",
     "name": "stdout",
     "text": [
      "./app.py\n",
      "./archive.zip\n",
      "./boston-crime-analysis.ipynb\n",
      "./boston-crime-prediction.ipynb\n",
      "./boston-crime-prediction_2016.ipynb\n",
      "./crime.csv\n",
      "./entrenamiento_final.csv\n",
      "./model.pkl\n",
      "./model.py\n",
      "./offense_codes.csv\n",
      "./Police_Districts.geojson\n",
      "./README.md\n",
      "./request.py\n",
      "./.git\\COMMIT_EDITMSG\n",
      "./.git\\config\n",
      "./.git\\description\n",
      "./.git\\HEAD\n",
      "./.git\\index\n",
      "./.git\\hooks\\applypatch-msg.sample\n",
      "./.git\\hooks\\commit-msg.sample\n",
      "./.git\\hooks\\fsmonitor-watchman.sample\n",
      "./.git\\hooks\\post-update.sample\n",
      "./.git\\hooks\\pre-applypatch.sample\n",
      "./.git\\hooks\\pre-commit.sample\n",
      "./.git\\hooks\\pre-merge-commit.sample\n",
      "./.git\\hooks\\pre-push.sample\n",
      "./.git\\hooks\\pre-rebase.sample\n",
      "./.git\\hooks\\pre-receive.sample\n",
      "./.git\\hooks\\prepare-commit-msg.sample\n",
      "./.git\\hooks\\update.sample\n",
      "./.git\\info\\exclude\n",
      "./.git\\logs\\HEAD\n",
      "./.git\\logs\\refs\\heads\\master\n",
      "./.git\\logs\\refs\\remotes\\origin\\master\n",
      "./.git\\objects\\0e\\9af3c32fb9272d91b7c43e13782701772f9df3\n",
      "./.git\\objects\\15\\39bd526cb47d86cee9fe73574108d257435f13\n",
      "./.git\\objects\\18\\40f1554bad6e8c019fb5e9943ab723e4c3224b\n",
      "./.git\\objects\\27\\138f21ff85facb2cb2e368ef443638fdf3a25e\n",
      "./.git\\objects\\2c\\521817dbdcbecd2b0ab1bbbdff9f7129820861\n",
      "./.git\\objects\\2c\\d368b845ba6b1238480682821c48b56e8b2695\n",
      "./.git\\objects\\2d\\1fb994119206698335e332ca07a914ce4a25d7\n",
      "./.git\\objects\\34\\55a68008f9fe35b639de3381a864d87f89fc3e\n",
      "./.git\\objects\\37\\1043386b08f1bf2f42d9368acbc7af686192c9\n",
      "./.git\\objects\\40\\2b3c526c28f0034403e813fa7764560d199431\n",
      "./.git\\objects\\41\\a0e52c570bf5aabe4b1df33fc0b0d2c15fb331\n",
      "./.git\\objects\\4c\\4ad4dab4e344a694caf02dcac7b770fe8bcd5f\n",
      "./.git\\objects\\53\\b2b5d98e249a6d88d59ab9ba658ebdf28b9320\n",
      "./.git\\objects\\59\\cb1e5aaaa2088920001de46fcc28e985fc57f6\n",
      "./.git\\objects\\74\\1655ec69659be9b3f5d9ed4d82900494e9dc19\n",
      "./.git\\objects\\84\\06901fb95366daca2f5efd743e829b7a3d8d0e\n",
      "./.git\\objects\\86\\f70f976f892d3b1652f930e501502f3b30e426\n",
      "./.git\\objects\\86\\fecac39be74ef82083e1e5f4656ee4e139bb7c\n",
      "./.git\\objects\\87\\2cf2f2ed444b0721ffac74f37657688ee790f5\n",
      "./.git\\objects\\94\\83735150a9f208b42ff4991968de8683a9700b\n",
      "./.git\\objects\\98\\9be68870c71c16a58c674b3463150c657520d8\n",
      "./.git\\objects\\9e\\9f43d5ae5b975a2848324ca77805532a541984\n",
      "./.git\\objects\\ac\\533951a98fa22ef3205c193cd2dd02943959d0\n",
      "./.git\\objects\\b6\\76d662762ff9fbb8e61102f5c3a78eb8eac29f\n",
      "./.git\\objects\\e4\\f8a03c91525fbf2ee0fbc1fa7bf6dac7c0febc\n",
      "./.git\\objects\\e8\\c1a019cef3729b649b21ba7df98a1952c07d9f\n",
      "./.git\\objects\\f1\\93f5274a095352b17bd47ea754408e39772684\n",
      "./.git\\objects\\fd\\1e1e34f5730cc1b1c3baf82f720a0910e71d6b\n",
      "./.git\\refs\\heads\\master\n",
      "./.git\\refs\\remotes\\origin\\master\n",
      "./forecasting_dataset\\2015.csv\n",
      "./forecasting_dataset\\2016.csv\n",
      "./forecasting_dataset\\2017.csv\n",
      "./forecasting_dataset\\2018.csv\n",
      "./predictions\\2016_forecast.csv\n",
      "./static\\swagger.json\n",
      "./static\\css\\style.css\n",
      "./templates\\index.html\n"
     ]
    }
   ],
   "metadata": {
    "_cell_guid": "b1076dfc-b9ad-4769-8c92-a6c4dae69d19",
    "_kg_hide-input": true,
    "_uuid": "8f2839f25d086af736a60e9eeb907d3b93b6e0e5"
   }
  },
  {
   "cell_type": "markdown",
   "source": [
    "#### Importing Python Modules "
   ],
   "metadata": {}
  },
  {
   "cell_type": "code",
   "execution_count": 63,
   "source": [
    "import numpy as np \r\n",
    "import pandas as pd \r\n",
    "import matplotlib.pyplot as plt \r\n",
    "%matplotlib inline \r\n",
    "import seaborn as sns\r\n",
    "import folium\r\n",
    "from folium.plugins import HeatMap\r\n",
    "from fbprophet import Prophet"
   ],
   "outputs": [],
   "metadata": {
    "_cell_guid": "79c7e3d0-c299-4dcb-8224-4455121ee9b0",
    "_kg_hide-input": true,
    "_uuid": "d629ff2d2480ee46fbb7e2d37f6b5fab8052498a"
   }
  },
  {
   "cell_type": "code",
   "execution_count": 205,
   "source": [
    "data=pd.read_csv('./crime.csv',encoding='ISO-8859-1')"
   ],
   "outputs": [],
   "metadata": {}
  },
  {
   "cell_type": "code",
   "execution_count": 206,
   "source": [
    "data.head()"
   ],
   "outputs": [
    {
     "output_type": "execute_result",
     "data": {
      "text/plain": [
       "  INCIDENT_NUMBER  OFFENSE_CODE    OFFENSE_CODE_GROUP   OFFENSE_DESCRIPTION  \\\n",
       "0      I182070945           619               Larceny    LARCENY ALL OTHERS   \n",
       "1      I182070943          1402             Vandalism             VANDALISM   \n",
       "2      I182070941          3410                 Towed   TOWED MOTOR VEHICLE   \n",
       "3      I182070940          3114  Investigate Property  INVESTIGATE PROPERTY   \n",
       "4      I182070938          3114  Investigate Property  INVESTIGATE PROPERTY   \n",
       "\n",
       "  DISTRICT  OCCURRED_ON_DATE  YEAR  MONTH DAY_OF_WEEK  HOUR       STREET  \\\n",
       "0      D14   2/09/2018 13:00  2018      9      Sunday    13   LINCOLN ST   \n",
       "1      C11  21/08/2018 00:00  2018      8     Tuesday     0     HECLA ST   \n",
       "2       D4   3/09/2018 19:27  2018      9      Monday    19  CAZENOVE ST   \n",
       "3       D4   3/09/2018 21:16  2018      9      Monday    21   NEWCOMB ST   \n",
       "4       B3   3/09/2018 21:05  2018      9      Monday    21     DELHI ST   \n",
       "\n",
       "         Lat       Long                     Location  \n",
       "0  42.357791 -71.139371  (42.35779134, -71.13937053)  \n",
       "1  42.306821 -71.060300  (42.30682138, -71.06030035)  \n",
       "2  42.346589 -71.072429  (42.34658879, -71.07242943)  \n",
       "3  42.334182 -71.078664  (42.33418175, -71.07866441)  \n",
       "4  42.275365 -71.090361  (42.27536542, -71.09036101)  "
      ],
      "text/html": [
       "<div>\n",
       "<style scoped>\n",
       "    .dataframe tbody tr th:only-of-type {\n",
       "        vertical-align: middle;\n",
       "    }\n",
       "\n",
       "    .dataframe tbody tr th {\n",
       "        vertical-align: top;\n",
       "    }\n",
       "\n",
       "    .dataframe thead th {\n",
       "        text-align: right;\n",
       "    }\n",
       "</style>\n",
       "<table border=\"1\" class=\"dataframe\">\n",
       "  <thead>\n",
       "    <tr style=\"text-align: right;\">\n",
       "      <th></th>\n",
       "      <th>INCIDENT_NUMBER</th>\n",
       "      <th>OFFENSE_CODE</th>\n",
       "      <th>OFFENSE_CODE_GROUP</th>\n",
       "      <th>OFFENSE_DESCRIPTION</th>\n",
       "      <th>DISTRICT</th>\n",
       "      <th>OCCURRED_ON_DATE</th>\n",
       "      <th>YEAR</th>\n",
       "      <th>MONTH</th>\n",
       "      <th>DAY_OF_WEEK</th>\n",
       "      <th>HOUR</th>\n",
       "      <th>STREET</th>\n",
       "      <th>Lat</th>\n",
       "      <th>Long</th>\n",
       "      <th>Location</th>\n",
       "    </tr>\n",
       "  </thead>\n",
       "  <tbody>\n",
       "    <tr>\n",
       "      <th>0</th>\n",
       "      <td>I182070945</td>\n",
       "      <td>619</td>\n",
       "      <td>Larceny</td>\n",
       "      <td>LARCENY ALL OTHERS</td>\n",
       "      <td>D14</td>\n",
       "      <td>2/09/2018 13:00</td>\n",
       "      <td>2018</td>\n",
       "      <td>9</td>\n",
       "      <td>Sunday</td>\n",
       "      <td>13</td>\n",
       "      <td>LINCOLN ST</td>\n",
       "      <td>42.357791</td>\n",
       "      <td>-71.139371</td>\n",
       "      <td>(42.35779134, -71.13937053)</td>\n",
       "    </tr>\n",
       "    <tr>\n",
       "      <th>1</th>\n",
       "      <td>I182070943</td>\n",
       "      <td>1402</td>\n",
       "      <td>Vandalism</td>\n",
       "      <td>VANDALISM</td>\n",
       "      <td>C11</td>\n",
       "      <td>21/08/2018 00:00</td>\n",
       "      <td>2018</td>\n",
       "      <td>8</td>\n",
       "      <td>Tuesday</td>\n",
       "      <td>0</td>\n",
       "      <td>HECLA ST</td>\n",
       "      <td>42.306821</td>\n",
       "      <td>-71.060300</td>\n",
       "      <td>(42.30682138, -71.06030035)</td>\n",
       "    </tr>\n",
       "    <tr>\n",
       "      <th>2</th>\n",
       "      <td>I182070941</td>\n",
       "      <td>3410</td>\n",
       "      <td>Towed</td>\n",
       "      <td>TOWED MOTOR VEHICLE</td>\n",
       "      <td>D4</td>\n",
       "      <td>3/09/2018 19:27</td>\n",
       "      <td>2018</td>\n",
       "      <td>9</td>\n",
       "      <td>Monday</td>\n",
       "      <td>19</td>\n",
       "      <td>CAZENOVE ST</td>\n",
       "      <td>42.346589</td>\n",
       "      <td>-71.072429</td>\n",
       "      <td>(42.34658879, -71.07242943)</td>\n",
       "    </tr>\n",
       "    <tr>\n",
       "      <th>3</th>\n",
       "      <td>I182070940</td>\n",
       "      <td>3114</td>\n",
       "      <td>Investigate Property</td>\n",
       "      <td>INVESTIGATE PROPERTY</td>\n",
       "      <td>D4</td>\n",
       "      <td>3/09/2018 21:16</td>\n",
       "      <td>2018</td>\n",
       "      <td>9</td>\n",
       "      <td>Monday</td>\n",
       "      <td>21</td>\n",
       "      <td>NEWCOMB ST</td>\n",
       "      <td>42.334182</td>\n",
       "      <td>-71.078664</td>\n",
       "      <td>(42.33418175, -71.07866441)</td>\n",
       "    </tr>\n",
       "    <tr>\n",
       "      <th>4</th>\n",
       "      <td>I182070938</td>\n",
       "      <td>3114</td>\n",
       "      <td>Investigate Property</td>\n",
       "      <td>INVESTIGATE PROPERTY</td>\n",
       "      <td>B3</td>\n",
       "      <td>3/09/2018 21:05</td>\n",
       "      <td>2018</td>\n",
       "      <td>9</td>\n",
       "      <td>Monday</td>\n",
       "      <td>21</td>\n",
       "      <td>DELHI ST</td>\n",
       "      <td>42.275365</td>\n",
       "      <td>-71.090361</td>\n",
       "      <td>(42.27536542, -71.09036101)</td>\n",
       "    </tr>\n",
       "  </tbody>\n",
       "</table>\n",
       "</div>"
      ]
     },
     "metadata": {},
     "execution_count": 206
    }
   ],
   "metadata": {}
  },
  {
   "cell_type": "code",
   "execution_count": 207,
   "source": [
    "data.shape"
   ],
   "outputs": [
    {
     "output_type": "execute_result",
     "data": {
      "text/plain": [
       "(296511, 14)"
      ]
     },
     "metadata": {},
     "execution_count": 207
    }
   ],
   "metadata": {}
  },
  {
   "cell_type": "markdown",
   "source": [
    "#### Renaiming the columns for convinence"
   ],
   "metadata": {}
  },
  {
   "cell_type": "code",
   "execution_count": 208,
   "source": [
    "data1 = data.rename(columns={'OFFENSE_CODE':'Code','OFFENSE_CODE_GROUP':'Group','OFFENSE_DESCRIPTION':'Description','OCCURRED_ON_DATE':'Date'})\r\n",
    "data1.head()"
   ],
   "outputs": [
    {
     "output_type": "execute_result",
     "data": {
      "text/plain": [
       "  INCIDENT_NUMBER  Code                 Group           Description DISTRICT  \\\n",
       "0      I182070945   619               Larceny    LARCENY ALL OTHERS      D14   \n",
       "1      I182070943  1402             Vandalism             VANDALISM      C11   \n",
       "2      I182070941  3410                 Towed   TOWED MOTOR VEHICLE       D4   \n",
       "3      I182070940  3114  Investigate Property  INVESTIGATE PROPERTY       D4   \n",
       "4      I182070938  3114  Investigate Property  INVESTIGATE PROPERTY       B3   \n",
       "\n",
       "               Date  YEAR  MONTH DAY_OF_WEEK  HOUR       STREET        Lat  \\\n",
       "0   2/09/2018 13:00  2018      9      Sunday    13   LINCOLN ST  42.357791   \n",
       "1  21/08/2018 00:00  2018      8     Tuesday     0     HECLA ST  42.306821   \n",
       "2   3/09/2018 19:27  2018      9      Monday    19  CAZENOVE ST  42.346589   \n",
       "3   3/09/2018 21:16  2018      9      Monday    21   NEWCOMB ST  42.334182   \n",
       "4   3/09/2018 21:05  2018      9      Monday    21     DELHI ST  42.275365   \n",
       "\n",
       "        Long                     Location  \n",
       "0 -71.139371  (42.35779134, -71.13937053)  \n",
       "1 -71.060300  (42.30682138, -71.06030035)  \n",
       "2 -71.072429  (42.34658879, -71.07242943)  \n",
       "3 -71.078664  (42.33418175, -71.07866441)  \n",
       "4 -71.090361  (42.27536542, -71.09036101)  "
      ],
      "text/html": [
       "<div>\n",
       "<style scoped>\n",
       "    .dataframe tbody tr th:only-of-type {\n",
       "        vertical-align: middle;\n",
       "    }\n",
       "\n",
       "    .dataframe tbody tr th {\n",
       "        vertical-align: top;\n",
       "    }\n",
       "\n",
       "    .dataframe thead th {\n",
       "        text-align: right;\n",
       "    }\n",
       "</style>\n",
       "<table border=\"1\" class=\"dataframe\">\n",
       "  <thead>\n",
       "    <tr style=\"text-align: right;\">\n",
       "      <th></th>\n",
       "      <th>INCIDENT_NUMBER</th>\n",
       "      <th>Code</th>\n",
       "      <th>Group</th>\n",
       "      <th>Description</th>\n",
       "      <th>DISTRICT</th>\n",
       "      <th>Date</th>\n",
       "      <th>YEAR</th>\n",
       "      <th>MONTH</th>\n",
       "      <th>DAY_OF_WEEK</th>\n",
       "      <th>HOUR</th>\n",
       "      <th>STREET</th>\n",
       "      <th>Lat</th>\n",
       "      <th>Long</th>\n",
       "      <th>Location</th>\n",
       "    </tr>\n",
       "  </thead>\n",
       "  <tbody>\n",
       "    <tr>\n",
       "      <th>0</th>\n",
       "      <td>I182070945</td>\n",
       "      <td>619</td>\n",
       "      <td>Larceny</td>\n",
       "      <td>LARCENY ALL OTHERS</td>\n",
       "      <td>D14</td>\n",
       "      <td>2/09/2018 13:00</td>\n",
       "      <td>2018</td>\n",
       "      <td>9</td>\n",
       "      <td>Sunday</td>\n",
       "      <td>13</td>\n",
       "      <td>LINCOLN ST</td>\n",
       "      <td>42.357791</td>\n",
       "      <td>-71.139371</td>\n",
       "      <td>(42.35779134, -71.13937053)</td>\n",
       "    </tr>\n",
       "    <tr>\n",
       "      <th>1</th>\n",
       "      <td>I182070943</td>\n",
       "      <td>1402</td>\n",
       "      <td>Vandalism</td>\n",
       "      <td>VANDALISM</td>\n",
       "      <td>C11</td>\n",
       "      <td>21/08/2018 00:00</td>\n",
       "      <td>2018</td>\n",
       "      <td>8</td>\n",
       "      <td>Tuesday</td>\n",
       "      <td>0</td>\n",
       "      <td>HECLA ST</td>\n",
       "      <td>42.306821</td>\n",
       "      <td>-71.060300</td>\n",
       "      <td>(42.30682138, -71.06030035)</td>\n",
       "    </tr>\n",
       "    <tr>\n",
       "      <th>2</th>\n",
       "      <td>I182070941</td>\n",
       "      <td>3410</td>\n",
       "      <td>Towed</td>\n",
       "      <td>TOWED MOTOR VEHICLE</td>\n",
       "      <td>D4</td>\n",
       "      <td>3/09/2018 19:27</td>\n",
       "      <td>2018</td>\n",
       "      <td>9</td>\n",
       "      <td>Monday</td>\n",
       "      <td>19</td>\n",
       "      <td>CAZENOVE ST</td>\n",
       "      <td>42.346589</td>\n",
       "      <td>-71.072429</td>\n",
       "      <td>(42.34658879, -71.07242943)</td>\n",
       "    </tr>\n",
       "    <tr>\n",
       "      <th>3</th>\n",
       "      <td>I182070940</td>\n",
       "      <td>3114</td>\n",
       "      <td>Investigate Property</td>\n",
       "      <td>INVESTIGATE PROPERTY</td>\n",
       "      <td>D4</td>\n",
       "      <td>3/09/2018 21:16</td>\n",
       "      <td>2018</td>\n",
       "      <td>9</td>\n",
       "      <td>Monday</td>\n",
       "      <td>21</td>\n",
       "      <td>NEWCOMB ST</td>\n",
       "      <td>42.334182</td>\n",
       "      <td>-71.078664</td>\n",
       "      <td>(42.33418175, -71.07866441)</td>\n",
       "    </tr>\n",
       "    <tr>\n",
       "      <th>4</th>\n",
       "      <td>I182070938</td>\n",
       "      <td>3114</td>\n",
       "      <td>Investigate Property</td>\n",
       "      <td>INVESTIGATE PROPERTY</td>\n",
       "      <td>B3</td>\n",
       "      <td>3/09/2018 21:05</td>\n",
       "      <td>2018</td>\n",
       "      <td>9</td>\n",
       "      <td>Monday</td>\n",
       "      <td>21</td>\n",
       "      <td>DELHI ST</td>\n",
       "      <td>42.275365</td>\n",
       "      <td>-71.090361</td>\n",
       "      <td>(42.27536542, -71.09036101)</td>\n",
       "    </tr>\n",
       "  </tbody>\n",
       "</table>\n",
       "</div>"
      ]
     },
     "metadata": {},
     "execution_count": 208
    }
   ],
   "metadata": {}
  },
  {
   "cell_type": "markdown",
   "source": [
    "#### Finding the missing data "
   ],
   "metadata": {}
  },
  {
   "cell_type": "code",
   "execution_count": 209,
   "source": [
    "#!pip install seaborn\r\n",
    "#!pip install --upgrade seaborn\r\n",
    "plt.figure(figsize=(10,10))\r\n",
    "sns.heatmap(data1.isnull(),cbar=False,cmap='YlGnBu')\r\n",
    "plt.ioff()"
   ],
   "outputs": [
    {
     "output_type": "display_data",
     "data": {
      "text/plain": [
       "<Figure size 720x720 with 1 Axes>"
      ],
      "image/png": "[encoded data removed]"
     },
     "metadata": {
      "needs_background": "light"
     }
    }
   ],
   "metadata": {}
  },
  {
   "cell_type": "markdown",
   "source": [
    "All the horizontal lines show the missing data in the dataset.Let us clean up the missing data by dropping the columns with missing data.Also the columns getting dropped will not have an affect on the forecasting of the crime."
   ],
   "metadata": {}
  },
  {
   "cell_type": "markdown",
   "source": [
    "#### Dropping the unwanted columns"
   ],
   "metadata": {}
  },
  {
   "cell_type": "code",
   "execution_count": 210,
   "source": [
    "data1.drop(['INCIDENT_NUMBER','Code','Lat','Long','Location'],inplace=True,axis=1)\r\n",
    "data1.head()"
   ],
   "outputs": [
    {
     "output_type": "execute_result",
     "data": {
      "text/plain": [
       "                  Group           Description DISTRICT              Date  \\\n",
       "0               Larceny    LARCENY ALL OTHERS      D14   2/09/2018 13:00   \n",
       "1             Vandalism             VANDALISM      C11  21/08/2018 00:00   \n",
       "2                 Towed   TOWED MOTOR VEHICLE       D4   3/09/2018 19:27   \n",
       "3  Investigate Property  INVESTIGATE PROPERTY       D4   3/09/2018 21:16   \n",
       "4  Investigate Property  INVESTIGATE PROPERTY       B3   3/09/2018 21:05   \n",
       "\n",
       "   YEAR  MONTH DAY_OF_WEEK  HOUR       STREET  \n",
       "0  2018      9      Sunday    13   LINCOLN ST  \n",
       "1  2018      8     Tuesday     0     HECLA ST  \n",
       "2  2018      9      Monday    19  CAZENOVE ST  \n",
       "3  2018      9      Monday    21   NEWCOMB ST  \n",
       "4  2018      9      Monday    21     DELHI ST  "
      ],
      "text/html": [
       "<div>\n",
       "<style scoped>\n",
       "    .dataframe tbody tr th:only-of-type {\n",
       "        vertical-align: middle;\n",
       "    }\n",
       "\n",
       "    .dataframe tbody tr th {\n",
       "        vertical-align: top;\n",
       "    }\n",
       "\n",
       "    .dataframe thead th {\n",
       "        text-align: right;\n",
       "    }\n",
       "</style>\n",
       "<table border=\"1\" class=\"dataframe\">\n",
       "  <thead>\n",
       "    <tr style=\"text-align: right;\">\n",
       "      <th></th>\n",
       "      <th>Group</th>\n",
       "      <th>Description</th>\n",
       "      <th>DISTRICT</th>\n",
       "      <th>Date</th>\n",
       "      <th>YEAR</th>\n",
       "      <th>MONTH</th>\n",
       "      <th>DAY_OF_WEEK</th>\n",
       "      <th>HOUR</th>\n",
       "      <th>STREET</th>\n",
       "    </tr>\n",
       "  </thead>\n",
       "  <tbody>\n",
       "    <tr>\n",
       "      <th>0</th>\n",
       "      <td>Larceny</td>\n",
       "      <td>LARCENY ALL OTHERS</td>\n",
       "      <td>D14</td>\n",
       "      <td>2/09/2018 13:00</td>\n",
       "      <td>2018</td>\n",
       "      <td>9</td>\n",
       "      <td>Sunday</td>\n",
       "      <td>13</td>\n",
       "      <td>LINCOLN ST</td>\n",
       "    </tr>\n",
       "    <tr>\n",
       "      <th>1</th>\n",
       "      <td>Vandalism</td>\n",
       "      <td>VANDALISM</td>\n",
       "      <td>C11</td>\n",
       "      <td>21/08/2018 00:00</td>\n",
       "      <td>2018</td>\n",
       "      <td>8</td>\n",
       "      <td>Tuesday</td>\n",
       "      <td>0</td>\n",
       "      <td>HECLA ST</td>\n",
       "    </tr>\n",
       "    <tr>\n",
       "      <th>2</th>\n",
       "      <td>Towed</td>\n",
       "      <td>TOWED MOTOR VEHICLE</td>\n",
       "      <td>D4</td>\n",
       "      <td>3/09/2018 19:27</td>\n",
       "      <td>2018</td>\n",
       "      <td>9</td>\n",
       "      <td>Monday</td>\n",
       "      <td>19</td>\n",
       "      <td>CAZENOVE ST</td>\n",
       "    </tr>\n",
       "    <tr>\n",
       "      <th>3</th>\n",
       "      <td>Investigate Property</td>\n",
       "      <td>INVESTIGATE PROPERTY</td>\n",
       "      <td>D4</td>\n",
       "      <td>3/09/2018 21:16</td>\n",
       "      <td>2018</td>\n",
       "      <td>9</td>\n",
       "      <td>Monday</td>\n",
       "      <td>21</td>\n",
       "      <td>NEWCOMB ST</td>\n",
       "    </tr>\n",
       "    <tr>\n",
       "      <th>4</th>\n",
       "      <td>Investigate Property</td>\n",
       "      <td>INVESTIGATE PROPERTY</td>\n",
       "      <td>B3</td>\n",
       "      <td>3/09/2018 21:05</td>\n",
       "      <td>2018</td>\n",
       "      <td>9</td>\n",
       "      <td>Monday</td>\n",
       "      <td>21</td>\n",
       "      <td>DELHI ST</td>\n",
       "    </tr>\n",
       "  </tbody>\n",
       "</table>\n",
       "</div>"
      ]
     },
     "metadata": {},
     "execution_count": 210
    }
   ],
   "metadata": {}
  },
  {
   "cell_type": "markdown",
   "source": [
    "#### Arranging the date in datetime format"
   ],
   "metadata": {}
  },
  {
   "cell_type": "code",
   "execution_count": 212,
   "source": [
    "data1['Date']=pd.to_datetime(data1['Date'], dayfirst=True)\r\n",
    "data1.head()"
   ],
   "outputs": [
    {
     "output_type": "execute_result",
     "data": {
      "text/plain": [
       "                  Group           Description DISTRICT                Date  \\\n",
       "0               Larceny    LARCENY ALL OTHERS      D14 2018-09-02 13:00:00   \n",
       "1             Vandalism             VANDALISM      C11 2018-08-21 00:00:00   \n",
       "2                 Towed   TOWED MOTOR VEHICLE       D4 2018-09-03 19:27:00   \n",
       "3  Investigate Property  INVESTIGATE PROPERTY       D4 2018-09-03 21:16:00   \n",
       "4  Investigate Property  INVESTIGATE PROPERTY       B3 2018-09-03 21:05:00   \n",
       "\n",
       "   YEAR  MONTH DAY_OF_WEEK  HOUR       STREET  \n",
       "0  2018      9      Sunday    13   LINCOLN ST  \n",
       "1  2018      8     Tuesday     0     HECLA ST  \n",
       "2  2018      9      Monday    19  CAZENOVE ST  \n",
       "3  2018      9      Monday    21   NEWCOMB ST  \n",
       "4  2018      9      Monday    21     DELHI ST  "
      ],
      "text/html": [
       "<div>\n",
       "<style scoped>\n",
       "    .dataframe tbody tr th:only-of-type {\n",
       "        vertical-align: middle;\n",
       "    }\n",
       "\n",
       "    .dataframe tbody tr th {\n",
       "        vertical-align: top;\n",
       "    }\n",
       "\n",
       "    .dataframe thead th {\n",
       "        text-align: right;\n",
       "    }\n",
       "</style>\n",
       "<table border=\"1\" class=\"dataframe\">\n",
       "  <thead>\n",
       "    <tr style=\"text-align: right;\">\n",
       "      <th></th>\n",
       "      <th>Group</th>\n",
       "      <th>Description</th>\n",
       "      <th>DISTRICT</th>\n",
       "      <th>Date</th>\n",
       "      <th>YEAR</th>\n",
       "      <th>MONTH</th>\n",
       "      <th>DAY_OF_WEEK</th>\n",
       "      <th>HOUR</th>\n",
       "      <th>STREET</th>\n",
       "    </tr>\n",
       "  </thead>\n",
       "  <tbody>\n",
       "    <tr>\n",
       "      <th>0</th>\n",
       "      <td>Larceny</td>\n",
       "      <td>LARCENY ALL OTHERS</td>\n",
       "      <td>D14</td>\n",
       "      <td>2018-09-02 13:00:00</td>\n",
       "      <td>2018</td>\n",
       "      <td>9</td>\n",
       "      <td>Sunday</td>\n",
       "      <td>13</td>\n",
       "      <td>LINCOLN ST</td>\n",
       "    </tr>\n",
       "    <tr>\n",
       "      <th>1</th>\n",
       "      <td>Vandalism</td>\n",
       "      <td>VANDALISM</td>\n",
       "      <td>C11</td>\n",
       "      <td>2018-08-21 00:00:00</td>\n",
       "      <td>2018</td>\n",
       "      <td>8</td>\n",
       "      <td>Tuesday</td>\n",
       "      <td>0</td>\n",
       "      <td>HECLA ST</td>\n",
       "    </tr>\n",
       "    <tr>\n",
       "      <th>2</th>\n",
       "      <td>Towed</td>\n",
       "      <td>TOWED MOTOR VEHICLE</td>\n",
       "      <td>D4</td>\n",
       "      <td>2018-09-03 19:27:00</td>\n",
       "      <td>2018</td>\n",
       "      <td>9</td>\n",
       "      <td>Monday</td>\n",
       "      <td>19</td>\n",
       "      <td>CAZENOVE ST</td>\n",
       "    </tr>\n",
       "    <tr>\n",
       "      <th>3</th>\n",
       "      <td>Investigate Property</td>\n",
       "      <td>INVESTIGATE PROPERTY</td>\n",
       "      <td>D4</td>\n",
       "      <td>2018-09-03 21:16:00</td>\n",
       "      <td>2018</td>\n",
       "      <td>9</td>\n",
       "      <td>Monday</td>\n",
       "      <td>21</td>\n",
       "      <td>NEWCOMB ST</td>\n",
       "    </tr>\n",
       "    <tr>\n",
       "      <th>4</th>\n",
       "      <td>Investigate Property</td>\n",
       "      <td>INVESTIGATE PROPERTY</td>\n",
       "      <td>B3</td>\n",
       "      <td>2018-09-03 21:05:00</td>\n",
       "      <td>2018</td>\n",
       "      <td>9</td>\n",
       "      <td>Monday</td>\n",
       "      <td>21</td>\n",
       "      <td>DELHI ST</td>\n",
       "    </tr>\n",
       "  </tbody>\n",
       "</table>\n",
       "</div>"
      ]
     },
     "metadata": {},
     "execution_count": 212
    }
   ],
   "metadata": {}
  },
  {
   "cell_type": "code",
   "execution_count": 213,
   "source": [
    "data1.Date"
   ],
   "outputs": [
    {
     "output_type": "execute_result",
     "data": {
      "text/plain": [
       "0        2018-09-02 13:00:00\n",
       "1        2018-08-21 00:00:00\n",
       "2        2018-09-03 19:27:00\n",
       "3        2018-09-03 21:16:00\n",
       "4        2018-09-03 21:05:00\n",
       "                 ...        \n",
       "296506   2016-06-05 17:25:00\n",
       "296507   2015-07-09 13:38:00\n",
       "296508   2015-07-09 13:38:00\n",
       "296509   2016-05-31 19:35:00\n",
       "296510   2015-06-22 00:12:00\n",
       "Name: Date, Length: 296511, dtype: datetime64[ns]"
      ]
     },
     "metadata": {},
     "execution_count": 213
    }
   ],
   "metadata": {}
  },
  {
   "cell_type": "code",
   "execution_count": 214,
   "source": [
    "data1.index=pd.DatetimeIndex(data1.Date)\r\n",
    "data1.head()"
   ],
   "outputs": [
    {
     "output_type": "execute_result",
     "data": {
      "text/plain": [
       "                                    Group           Description DISTRICT  \\\n",
       "Date                                                                       \n",
       "2018-09-02 13:00:00               Larceny    LARCENY ALL OTHERS      D14   \n",
       "2018-08-21 00:00:00             Vandalism             VANDALISM      C11   \n",
       "2018-09-03 19:27:00                 Towed   TOWED MOTOR VEHICLE       D4   \n",
       "2018-09-03 21:16:00  Investigate Property  INVESTIGATE PROPERTY       D4   \n",
       "2018-09-03 21:05:00  Investigate Property  INVESTIGATE PROPERTY       B3   \n",
       "\n",
       "                                   Date  YEAR  MONTH DAY_OF_WEEK  HOUR  \\\n",
       "Date                                                                     \n",
       "2018-09-02 13:00:00 2018-09-02 13:00:00  2018      9      Sunday    13   \n",
       "2018-08-21 00:00:00 2018-08-21 00:00:00  2018      8     Tuesday     0   \n",
       "2018-09-03 19:27:00 2018-09-03 19:27:00  2018      9      Monday    19   \n",
       "2018-09-03 21:16:00 2018-09-03 21:16:00  2018      9      Monday    21   \n",
       "2018-09-03 21:05:00 2018-09-03 21:05:00  2018      9      Monday    21   \n",
       "\n",
       "                          STREET  \n",
       "Date                              \n",
       "2018-09-02 13:00:00   LINCOLN ST  \n",
       "2018-08-21 00:00:00     HECLA ST  \n",
       "2018-09-03 19:27:00  CAZENOVE ST  \n",
       "2018-09-03 21:16:00   NEWCOMB ST  \n",
       "2018-09-03 21:05:00     DELHI ST  "
      ],
      "text/html": [
       "<div>\n",
       "<style scoped>\n",
       "    .dataframe tbody tr th:only-of-type {\n",
       "        vertical-align: middle;\n",
       "    }\n",
       "\n",
       "    .dataframe tbody tr th {\n",
       "        vertical-align: top;\n",
       "    }\n",
       "\n",
       "    .dataframe thead th {\n",
       "        text-align: right;\n",
       "    }\n",
       "</style>\n",
       "<table border=\"1\" class=\"dataframe\">\n",
       "  <thead>\n",
       "    <tr style=\"text-align: right;\">\n",
       "      <th></th>\n",
       "      <th>Group</th>\n",
       "      <th>Description</th>\n",
       "      <th>DISTRICT</th>\n",
       "      <th>Date</th>\n",
       "      <th>YEAR</th>\n",
       "      <th>MONTH</th>\n",
       "      <th>DAY_OF_WEEK</th>\n",
       "      <th>HOUR</th>\n",
       "      <th>STREET</th>\n",
       "    </tr>\n",
       "    <tr>\n",
       "      <th>Date</th>\n",
       "      <th></th>\n",
       "      <th></th>\n",
       "      <th></th>\n",
       "      <th></th>\n",
       "      <th></th>\n",
       "      <th></th>\n",
       "      <th></th>\n",
       "      <th></th>\n",
       "      <th></th>\n",
       "    </tr>\n",
       "  </thead>\n",
       "  <tbody>\n",
       "    <tr>\n",
       "      <th>2018-09-02 13:00:00</th>\n",
       "      <td>Larceny</td>\n",
       "      <td>LARCENY ALL OTHERS</td>\n",
       "      <td>D14</td>\n",
       "      <td>2018-09-02 13:00:00</td>\n",
       "      <td>2018</td>\n",
       "      <td>9</td>\n",
       "      <td>Sunday</td>\n",
       "      <td>13</td>\n",
       "      <td>LINCOLN ST</td>\n",
       "    </tr>\n",
       "    <tr>\n",
       "      <th>2018-08-21 00:00:00</th>\n",
       "      <td>Vandalism</td>\n",
       "      <td>VANDALISM</td>\n",
       "      <td>C11</td>\n",
       "      <td>2018-08-21 00:00:00</td>\n",
       "      <td>2018</td>\n",
       "      <td>8</td>\n",
       "      <td>Tuesday</td>\n",
       "      <td>0</td>\n",
       "      <td>HECLA ST</td>\n",
       "    </tr>\n",
       "    <tr>\n",
       "      <th>2018-09-03 19:27:00</th>\n",
       "      <td>Towed</td>\n",
       "      <td>TOWED MOTOR VEHICLE</td>\n",
       "      <td>D4</td>\n",
       "      <td>2018-09-03 19:27:00</td>\n",
       "      <td>2018</td>\n",
       "      <td>9</td>\n",
       "      <td>Monday</td>\n",
       "      <td>19</td>\n",
       "      <td>CAZENOVE ST</td>\n",
       "    </tr>\n",
       "    <tr>\n",
       "      <th>2018-09-03 21:16:00</th>\n",
       "      <td>Investigate Property</td>\n",
       "      <td>INVESTIGATE PROPERTY</td>\n",
       "      <td>D4</td>\n",
       "      <td>2018-09-03 21:16:00</td>\n",
       "      <td>2018</td>\n",
       "      <td>9</td>\n",
       "      <td>Monday</td>\n",
       "      <td>21</td>\n",
       "      <td>NEWCOMB ST</td>\n",
       "    </tr>\n",
       "    <tr>\n",
       "      <th>2018-09-03 21:05:00</th>\n",
       "      <td>Investigate Property</td>\n",
       "      <td>INVESTIGATE PROPERTY</td>\n",
       "      <td>B3</td>\n",
       "      <td>2018-09-03 21:05:00</td>\n",
       "      <td>2018</td>\n",
       "      <td>9</td>\n",
       "      <td>Monday</td>\n",
       "      <td>21</td>\n",
       "      <td>DELHI ST</td>\n",
       "    </tr>\n",
       "  </tbody>\n",
       "</table>\n",
       "</div>"
      ]
     },
     "metadata": {},
     "execution_count": 214
    }
   ],
   "metadata": {}
  },
  {
   "cell_type": "markdown",
   "source": [
    "#### Getting information most recurring Crime"
   ],
   "metadata": {}
  },
  {
   "cell_type": "code",
   "execution_count": 215,
   "source": [
    "data1['Group'].value_counts()"
   ],
   "outputs": [
    {
     "output_type": "execute_result",
     "data": {
      "text/plain": [
       "Motor Vehicle Accident Response              30376\n",
       "Larceny                                      25057\n",
       "Medical Assistance                           22361\n",
       "Investigate Person                           17964\n",
       "Other                                        17019\n",
       "                                             ...  \n",
       "Manslaughter                                     6\n",
       "INVESTIGATE PERSON                               4\n",
       "Biological Threat                                2\n",
       "Burglary - No Property Taken                     2\n",
       "HUMAN TRAFFICKING - INVOLUNTARY SERVITUDE        2\n",
       "Name: Group, Length: 67, dtype: int64"
      ]
     },
     "metadata": {},
     "execution_count": 215
    }
   ],
   "metadata": {}
  },
  {
   "cell_type": "code",
   "execution_count": 216,
   "source": [
    "data1['Group'].value_counts().iloc[:15]"
   ],
   "outputs": [
    {
     "output_type": "execute_result",
     "data": {
      "text/plain": [
       "Motor Vehicle Accident Response    30376\n",
       "Larceny                            25057\n",
       "Medical Assistance                 22361\n",
       "Investigate Person                 17964\n",
       "Other                              17019\n",
       "Vandalism                          14838\n",
       "Simple Assault                     14837\n",
       "Drug Violation                     14387\n",
       "Verbal Disputes                    12942\n",
       "Towed                              10736\n",
       "Investigate Property               10584\n",
       "Larceny From Motor Vehicle         10235\n",
       "Property Lost                       9309\n",
       "Warrant Arrests                     7519\n",
       "Aggravated Assault                  7215\n",
       "Name: Group, dtype: int64"
      ]
     },
     "metadata": {},
     "execution_count": 216
    }
   ],
   "metadata": {}
  },
  {
   "cell_type": "code",
   "execution_count": 217,
   "source": [
    "order_data=data1['Group'].value_counts().iloc[:15].index\r\n",
    "plt.figure(figsize=(15,10))\r\n",
    "sns.countplot(y='Group',data=data1,order=order_data)\r\n",
    "plt.ioff()"
   ],
   "outputs": [
    {
     "output_type": "display_data",
     "data": {
      "text/plain": [
       "<Figure size 1080x720 with 1 Axes>"
      ],
      "image/png": "[encoded data removed]"
     },
     "metadata": {
      "needs_background": "light"
     }
    }
   ],
   "metadata": {
    "_kg_hide-input": true
   }
  },
  {
   "cell_type": "markdown",
   "source": [
    "So we can clearly see that the motor vehicle accident,theft and medical assistance are most crime indidents reported in Boston."
   ],
   "metadata": {}
  },
  {
   "cell_type": "markdown",
   "source": [
    "#### Resampling the data: \n",
    "This is done to segregate the crime count based on time period like month,quarter and year"
   ],
   "metadata": {}
  },
  {
   "cell_type": "code",
   "execution_count": 218,
   "source": [
    "data1.resample('Y').size()"
   ],
   "outputs": [
    {
     "output_type": "execute_result",
     "data": {
      "text/plain": [
       "Date\n",
       "2015-12-31    51154\n",
       "2016-12-31    91533\n",
       "2017-12-31    93093\n",
       "2018-12-31    60731\n",
       "Freq: A-DEC, dtype: int64"
      ]
     },
     "metadata": {},
     "execution_count": 218
    }
   ],
   "metadata": {}
  },
  {
   "cell_type": "code",
   "execution_count": 219,
   "source": [
    "plt.plot(data1.resample('Y').size())\r\n",
    "plt.title('Crime Count Per Year')\r\n",
    "plt.xlabel('Years')\r\n",
    "plt.ylabel('Number of Crimes')\r\n",
    "plt.ioff()"
   ],
   "outputs": [
    {
     "output_type": "display_data",
     "data": {
      "text/plain": [
       "<Figure size 432x288 with 1 Axes>"
      ],
      "image/png": "[encoded data removed]"
     },
     "metadata": {
      "needs_background": "light"
     }
    }
   ],
   "metadata": {
    "_kg_hide-input": true
   }
  },
  {
   "cell_type": "code",
   "execution_count": 220,
   "source": [
    "plt.plot(data1.resample('M').size())\r\n",
    "plt.title('Crime Count Per Month')\r\n",
    "plt.xlabel('Months')\r\n",
    "plt.ylabel('Number of Crimes')\r\n",
    "plt.ioff()"
   ],
   "outputs": [
    {
     "output_type": "display_data",
     "data": {
      "text/plain": [
       "<Figure size 432x288 with 1 Axes>"
      ],
      "image/png": "[encoded data removed]"
     },
     "metadata": {
      "needs_background": "light"
     }
    }
   ],
   "metadata": {
    "_kg_hide-input": true
   }
  },
  {
   "cell_type": "code",
   "execution_count": 221,
   "source": [
    "plt.plot(data1.resample('Q').size())\r\n",
    "plt.title('Crime Count Per Quarter')\r\n",
    "plt.xlabel('Quaterly')\r\n",
    "plt.ylabel('Number of Crimes')\r\n",
    "plt.ioff()"
   ],
   "outputs": [
    {
     "output_type": "display_data",
     "data": {
      "text/plain": [
       "<Figure size 432x288 with 1 Axes>"
      ],
      "image/png": "[encoded data removed]"
     },
     "metadata": {
      "needs_background": "light"
     }
    }
   ],
   "metadata": {
    "_kg_hide-input": true
   }
  },
  {
   "cell_type": "markdown",
   "source": [
    "The X axis values and not getting displayed correctly.I am not sure why ? May be someone can throw some light on what needs to be done"
   ],
   "metadata": {}
  },
  {
   "cell_type": "markdown",
   "source": [
    "#### Preparing the data "
   ],
   "metadata": {}
  },
  {
   "cell_type": "code",
   "execution_count": 222,
   "source": [
    "Boston_prophet=data1.resample('M').size().reset_index()"
   ],
   "outputs": [],
   "metadata": {}
  },
  {
   "cell_type": "code",
   "execution_count": 223,
   "source": [
    "Boston_prophet.head()"
   ],
   "outputs": [
    {
     "output_type": "execute_result",
     "data": {
      "text/plain": [
       "        Date     0\n",
       "0 2015-06-30  4059\n",
       "1 2015-07-31  8023\n",
       "2 2015-08-31  8015\n",
       "3 2015-09-30  8044\n",
       "4 2015-10-31  7957"
      ],
      "text/html": [
       "<div>\n",
       "<style scoped>\n",
       "    .dataframe tbody tr th:only-of-type {\n",
       "        vertical-align: middle;\n",
       "    }\n",
       "\n",
       "    .dataframe tbody tr th {\n",
       "        vertical-align: top;\n",
       "    }\n",
       "\n",
       "    .dataframe thead th {\n",
       "        text-align: right;\n",
       "    }\n",
       "</style>\n",
       "<table border=\"1\" class=\"dataframe\">\n",
       "  <thead>\n",
       "    <tr style=\"text-align: right;\">\n",
       "      <th></th>\n",
       "      <th>Date</th>\n",
       "      <th>0</th>\n",
       "    </tr>\n",
       "  </thead>\n",
       "  <tbody>\n",
       "    <tr>\n",
       "      <th>0</th>\n",
       "      <td>2015-06-30</td>\n",
       "      <td>4059</td>\n",
       "    </tr>\n",
       "    <tr>\n",
       "      <th>1</th>\n",
       "      <td>2015-07-31</td>\n",
       "      <td>8023</td>\n",
       "    </tr>\n",
       "    <tr>\n",
       "      <th>2</th>\n",
       "      <td>2015-08-31</td>\n",
       "      <td>8015</td>\n",
       "    </tr>\n",
       "    <tr>\n",
       "      <th>3</th>\n",
       "      <td>2015-09-30</td>\n",
       "      <td>8044</td>\n",
       "    </tr>\n",
       "    <tr>\n",
       "      <th>4</th>\n",
       "      <td>2015-10-31</td>\n",
       "      <td>7957</td>\n",
       "    </tr>\n",
       "  </tbody>\n",
       "</table>\n",
       "</div>"
      ]
     },
     "metadata": {},
     "execution_count": 223
    }
   ],
   "metadata": {}
  },
  {
   "cell_type": "markdown",
   "source": [
    "#### Renaming the columns of Boston_prophet"
   ],
   "metadata": {}
  },
  {
   "cell_type": "code",
   "execution_count": 224,
   "source": [
    "Boston_prophet.columns=['Date','Crime_Count']"
   ],
   "outputs": [],
   "metadata": {}
  },
  {
   "cell_type": "code",
   "execution_count": 225,
   "source": [
    "Boston_prophet.head()"
   ],
   "outputs": [
    {
     "output_type": "execute_result",
     "data": {
      "text/plain": [
       "        Date  Crime_Count\n",
       "0 2015-06-30         4059\n",
       "1 2015-07-31         8023\n",
       "2 2015-08-31         8015\n",
       "3 2015-09-30         8044\n",
       "4 2015-10-31         7957"
      ],
      "text/html": [
       "<div>\n",
       "<style scoped>\n",
       "    .dataframe tbody tr th:only-of-type {\n",
       "        vertical-align: middle;\n",
       "    }\n",
       "\n",
       "    .dataframe tbody tr th {\n",
       "        vertical-align: top;\n",
       "    }\n",
       "\n",
       "    .dataframe thead th {\n",
       "        text-align: right;\n",
       "    }\n",
       "</style>\n",
       "<table border=\"1\" class=\"dataframe\">\n",
       "  <thead>\n",
       "    <tr style=\"text-align: right;\">\n",
       "      <th></th>\n",
       "      <th>Date</th>\n",
       "      <th>Crime_Count</th>\n",
       "    </tr>\n",
       "  </thead>\n",
       "  <tbody>\n",
       "    <tr>\n",
       "      <th>0</th>\n",
       "      <td>2015-06-30</td>\n",
       "      <td>4059</td>\n",
       "    </tr>\n",
       "    <tr>\n",
       "      <th>1</th>\n",
       "      <td>2015-07-31</td>\n",
       "      <td>8023</td>\n",
       "    </tr>\n",
       "    <tr>\n",
       "      <th>2</th>\n",
       "      <td>2015-08-31</td>\n",
       "      <td>8015</td>\n",
       "    </tr>\n",
       "    <tr>\n",
       "      <th>3</th>\n",
       "      <td>2015-09-30</td>\n",
       "      <td>8044</td>\n",
       "    </tr>\n",
       "    <tr>\n",
       "      <th>4</th>\n",
       "      <td>2015-10-31</td>\n",
       "      <td>7957</td>\n",
       "    </tr>\n",
       "  </tbody>\n",
       "</table>\n",
       "</div>"
      ]
     },
     "metadata": {},
     "execution_count": 225
    }
   ],
   "metadata": {}
  },
  {
   "cell_type": "code",
   "execution_count": 226,
   "source": [
    "Boston_prophet_final=Boston_prophet.rename(columns={'Date':'ds','Crime_Count':'y'})"
   ],
   "outputs": [],
   "metadata": {}
  },
  {
   "cell_type": "code",
   "execution_count": 227,
   "source": [
    "Boston_prophet_final.head()"
   ],
   "outputs": [
    {
     "output_type": "execute_result",
     "data": {
      "text/plain": [
       "          ds     y\n",
       "0 2015-06-30  4059\n",
       "1 2015-07-31  8023\n",
       "2 2015-08-31  8015\n",
       "3 2015-09-30  8044\n",
       "4 2015-10-31  7957"
      ],
      "text/html": [
       "<div>\n",
       "<style scoped>\n",
       "    .dataframe tbody tr th:only-of-type {\n",
       "        vertical-align: middle;\n",
       "    }\n",
       "\n",
       "    .dataframe tbody tr th {\n",
       "        vertical-align: top;\n",
       "    }\n",
       "\n",
       "    .dataframe thead th {\n",
       "        text-align: right;\n",
       "    }\n",
       "</style>\n",
       "<table border=\"1\" class=\"dataframe\">\n",
       "  <thead>\n",
       "    <tr style=\"text-align: right;\">\n",
       "      <th></th>\n",
       "      <th>ds</th>\n",
       "      <th>y</th>\n",
       "    </tr>\n",
       "  </thead>\n",
       "  <tbody>\n",
       "    <tr>\n",
       "      <th>0</th>\n",
       "      <td>2015-06-30</td>\n",
       "      <td>4059</td>\n",
       "    </tr>\n",
       "    <tr>\n",
       "      <th>1</th>\n",
       "      <td>2015-07-31</td>\n",
       "      <td>8023</td>\n",
       "    </tr>\n",
       "    <tr>\n",
       "      <th>2</th>\n",
       "      <td>2015-08-31</td>\n",
       "      <td>8015</td>\n",
       "    </tr>\n",
       "    <tr>\n",
       "      <th>3</th>\n",
       "      <td>2015-09-30</td>\n",
       "      <td>8044</td>\n",
       "    </tr>\n",
       "    <tr>\n",
       "      <th>4</th>\n",
       "      <td>2015-10-31</td>\n",
       "      <td>7957</td>\n",
       "    </tr>\n",
       "  </tbody>\n",
       "</table>\n",
       "</div>"
      ]
     },
     "metadata": {},
     "execution_count": 227
    }
   ],
   "metadata": {}
  },
  {
   "cell_type": "markdown",
   "source": [
    "#### Make Predictions"
   ],
   "metadata": {}
  },
  {
   "cell_type": "code",
   "execution_count": 302,
   "source": [
    "#!pip install --upgrade holidays pystan\r\n",
    "#!pip install pystan==2.19.1.1 prophet\r\n",
    "#!pip install prophet\r\n",
    "#!conda install -c conda-forge prophet -y\r\n",
    "#from prophet import Prophet\r\n",
    "from fbprophet.diagnostics import cross_validation\r\n",
    "#m=Prophet(growth='linear', weekly_seasonality=True)\r\n",
    "#m=Prophet(interval_width=0.95, daily_seasonality=False, weekly_seasonality=True)\r\n",
    "m=Prophet()\r\n",
    "#m=Prophet()\r\n",
    "m.fit(Boston_prophet_final)"
   ],
   "outputs": [
    {
     "output_type": "stream",
     "name": "stderr",
     "text": [
      "INFO:fbprophet:Disabling weekly seasonality. Run prophet with weekly_seasonality=True to override this.\n",
      "INFO:fbprophet:Disabling daily seasonality. Run prophet with daily_seasonality=True to override this.\n"
     ]
    },
    {
     "output_type": "execute_result",
     "data": {
      "text/plain": [
       "<fbprophet.forecaster.Prophet at 0x1ddb6c5b688>"
      ]
     },
     "metadata": {},
     "execution_count": 302
    }
   ],
   "metadata": {}
  },
  {
   "cell_type": "code",
   "execution_count": 306,
   "source": [
    "#future=m.make_future_dataframe(freq='W', periods=20)\r\n",
    "future=m.make_future_dataframe(periods=365)\r\n",
    "\r\n",
    "forecast=m.predict(future)\r\n",
    "#cv_results = cross_validation(m, initial='730 days', period='180 days', horizon='365 days', parallel=\"dask\")"
   ],
   "outputs": [],
   "metadata": {}
  },
  {
   "cell_type": "code",
   "execution_count": 307,
   "source": [
    "forecast"
   ],
   "outputs": [
    {
     "output_type": "execute_result",
     "data": {
      "text/plain": [
       "            ds        trend   yhat_lower    yhat_upper  trend_lower  \\\n",
       "0   2015-06-30  8019.528325  4567.894356   7192.805151  8019.528325   \n",
       "1   2015-07-31  8000.662075  7402.209320  10069.898878  8000.662075   \n",
       "2   2015-08-31  7981.795825  7204.991167   9944.582110  7981.795825   \n",
       "3   2015-09-30  7963.538163  4523.254106   7288.952243  7963.538163   \n",
       "4   2015-10-31  7944.671913  7238.282082  10024.497202  7944.671913   \n",
       "..         ...          ...          ...           ...          ...   \n",
       "400 2019-09-26  7076.771954 -1692.248679   1021.651730  7076.769400   \n",
       "401 2019-09-27  7076.163303  -518.918525   2213.133052  7076.160743   \n",
       "402 2019-09-28  7075.554651   765.942162   3408.776917  7075.552082   \n",
       "403 2019-09-29  7074.946000  2221.149317   4857.798344  7074.943419   \n",
       "404 2019-09-30  7074.337349  3606.144351   6426.193971  7074.334755   \n",
       "\n",
       "     trend_upper  additive_terms  additive_terms_lower  additive_terms_upper  \\\n",
       "0    8019.528325    -2041.841841          -2041.841841          -2041.841841   \n",
       "1    8000.662075      740.141419            740.141419            740.141419   \n",
       "2    7981.795825      698.791706            698.791706            698.791706   \n",
       "3    7963.538163    -2037.648948          -2037.648948          -2037.648948   \n",
       "4    7944.671913      626.966371            626.966371            626.966371   \n",
       "..           ...             ...                   ...                   ...   \n",
       "400  7076.774682    -7492.925867          -7492.925867          -7492.925867   \n",
       "401  7076.166042    -6265.889064          -6265.889064          -6265.889064   \n",
       "402  7075.557405    -4936.768985          -4936.768985          -4936.768985   \n",
       "403  7074.948766    -3521.454746          -3521.454746          -3521.454746   \n",
       "404  7074.340130    -2037.648948          -2037.648948          -2037.648948   \n",
       "\n",
       "          yearly  yearly_lower  yearly_upper  multiplicative_terms  \\\n",
       "0   -2041.841841  -2041.841841  -2041.841841                   0.0   \n",
       "1     740.141419    740.141419    740.141419                   0.0   \n",
       "2     698.791706    698.791706    698.791706                   0.0   \n",
       "3   -2037.648948  -2037.648948  -2037.648948                   0.0   \n",
       "4     626.966371    626.966371    626.966371                   0.0   \n",
       "..           ...           ...           ...                   ...   \n",
       "400 -7492.925867  -7492.925867  -7492.925867                   0.0   \n",
       "401 -6265.889064  -6265.889064  -6265.889064                   0.0   \n",
       "402 -4936.768985  -4936.768985  -4936.768985                   0.0   \n",
       "403 -3521.454746  -3521.454746  -3521.454746                   0.0   \n",
       "404 -2037.648948  -2037.648948  -2037.648948                   0.0   \n",
       "\n",
       "     multiplicative_terms_lower  multiplicative_terms_upper         yhat  \n",
       "0                           0.0                         0.0  5977.686484  \n",
       "1                           0.0                         0.0  8740.803494  \n",
       "2                           0.0                         0.0  8680.587530  \n",
       "3                           0.0                         0.0  5925.889215  \n",
       "4                           0.0                         0.0  8571.638285  \n",
       "..                          ...                         ...          ...  \n",
       "400                         0.0                         0.0  -416.153914  \n",
       "401                         0.0                         0.0   810.274239  \n",
       "402                         0.0                         0.0  2138.785666  \n",
       "403                         0.0                         0.0  3553.491254  \n",
       "404                         0.0                         0.0  5036.688400  \n",
       "\n",
       "[405 rows x 16 columns]"
      ],
      "text/html": [
       "<div>\n",
       "<style scoped>\n",
       "    .dataframe tbody tr th:only-of-type {\n",
       "        vertical-align: middle;\n",
       "    }\n",
       "\n",
       "    .dataframe tbody tr th {\n",
       "        vertical-align: top;\n",
       "    }\n",
       "\n",
       "    .dataframe thead th {\n",
       "        text-align: right;\n",
       "    }\n",
       "</style>\n",
       "<table border=\"1\" class=\"dataframe\">\n",
       "  <thead>\n",
       "    <tr style=\"text-align: right;\">\n",
       "      <th></th>\n",
       "      <th>ds</th>\n",
       "      <th>trend</th>\n",
       "      <th>yhat_lower</th>\n",
       "      <th>yhat_upper</th>\n",
       "      <th>trend_lower</th>\n",
       "      <th>trend_upper</th>\n",
       "      <th>additive_terms</th>\n",
       "      <th>additive_terms_lower</th>\n",
       "      <th>additive_terms_upper</th>\n",
       "      <th>yearly</th>\n",
       "      <th>yearly_lower</th>\n",
       "      <th>yearly_upper</th>\n",
       "      <th>multiplicative_terms</th>\n",
       "      <th>multiplicative_terms_lower</th>\n",
       "      <th>multiplicative_terms_upper</th>\n",
       "      <th>yhat</th>\n",
       "    </tr>\n",
       "  </thead>\n",
       "  <tbody>\n",
       "    <tr>\n",
       "      <th>0</th>\n",
       "      <td>2015-06-30</td>\n",
       "      <td>8019.528325</td>\n",
       "      <td>4567.894356</td>\n",
       "      <td>7192.805151</td>\n",
       "      <td>8019.528325</td>\n",
       "      <td>8019.528325</td>\n",
       "      <td>-2041.841841</td>\n",
       "      <td>-2041.841841</td>\n",
       "      <td>-2041.841841</td>\n",
       "      <td>-2041.841841</td>\n",
       "      <td>-2041.841841</td>\n",
       "      <td>-2041.841841</td>\n",
       "      <td>0.0</td>\n",
       "      <td>0.0</td>\n",
       "      <td>0.0</td>\n",
       "      <td>5977.686484</td>\n",
       "    </tr>\n",
       "    <tr>\n",
       "      <th>1</th>\n",
       "      <td>2015-07-31</td>\n",
       "      <td>8000.662075</td>\n",
       "      <td>7402.209320</td>\n",
       "      <td>10069.898878</td>\n",
       "      <td>8000.662075</td>\n",
       "      <td>8000.662075</td>\n",
       "      <td>740.141419</td>\n",
       "      <td>740.141419</td>\n",
       "      <td>740.141419</td>\n",
       "      <td>740.141419</td>\n",
       "      <td>740.141419</td>\n",
       "      <td>740.141419</td>\n",
       "      <td>0.0</td>\n",
       "      <td>0.0</td>\n",
       "      <td>0.0</td>\n",
       "      <td>8740.803494</td>\n",
       "    </tr>\n",
       "    <tr>\n",
       "      <th>2</th>\n",
       "      <td>2015-08-31</td>\n",
       "      <td>7981.795825</td>\n",
       "      <td>7204.991167</td>\n",
       "      <td>9944.582110</td>\n",
       "      <td>7981.795825</td>\n",
       "      <td>7981.795825</td>\n",
       "      <td>698.791706</td>\n",
       "      <td>698.791706</td>\n",
       "      <td>698.791706</td>\n",
       "      <td>698.791706</td>\n",
       "      <td>698.791706</td>\n",
       "      <td>698.791706</td>\n",
       "      <td>0.0</td>\n",
       "      <td>0.0</td>\n",
       "      <td>0.0</td>\n",
       "      <td>8680.587530</td>\n",
       "    </tr>\n",
       "    <tr>\n",
       "      <th>3</th>\n",
       "      <td>2015-09-30</td>\n",
       "      <td>7963.538163</td>\n",
       "      <td>4523.254106</td>\n",
       "      <td>7288.952243</td>\n",
       "      <td>7963.538163</td>\n",
       "      <td>7963.538163</td>\n",
       "      <td>-2037.648948</td>\n",
       "      <td>-2037.648948</td>\n",
       "      <td>-2037.648948</td>\n",
       "      <td>-2037.648948</td>\n",
       "      <td>-2037.648948</td>\n",
       "      <td>-2037.648948</td>\n",
       "      <td>0.0</td>\n",
       "      <td>0.0</td>\n",
       "      <td>0.0</td>\n",
       "      <td>5925.889215</td>\n",
       "    </tr>\n",
       "    <tr>\n",
       "      <th>4</th>\n",
       "      <td>2015-10-31</td>\n",
       "      <td>7944.671913</td>\n",
       "      <td>7238.282082</td>\n",
       "      <td>10024.497202</td>\n",
       "      <td>7944.671913</td>\n",
       "      <td>7944.671913</td>\n",
       "      <td>626.966371</td>\n",
       "      <td>626.966371</td>\n",
       "      <td>626.966371</td>\n",
       "      <td>626.966371</td>\n",
       "      <td>626.966371</td>\n",
       "      <td>626.966371</td>\n",
       "      <td>0.0</td>\n",
       "      <td>0.0</td>\n",
       "      <td>0.0</td>\n",
       "      <td>8571.638285</td>\n",
       "    </tr>\n",
       "    <tr>\n",
       "      <th>...</th>\n",
       "      <td>...</td>\n",
       "      <td>...</td>\n",
       "      <td>...</td>\n",
       "      <td>...</td>\n",
       "      <td>...</td>\n",
       "      <td>...</td>\n",
       "      <td>...</td>\n",
       "      <td>...</td>\n",
       "      <td>...</td>\n",
       "      <td>...</td>\n",
       "      <td>...</td>\n",
       "      <td>...</td>\n",
       "      <td>...</td>\n",
       "      <td>...</td>\n",
       "      <td>...</td>\n",
       "      <td>...</td>\n",
       "    </tr>\n",
       "    <tr>\n",
       "      <th>400</th>\n",
       "      <td>2019-09-26</td>\n",
       "      <td>7076.771954</td>\n",
       "      <td>-1692.248679</td>\n",
       "      <td>1021.651730</td>\n",
       "      <td>7076.769400</td>\n",
       "      <td>7076.774682</td>\n",
       "      <td>-7492.925867</td>\n",
       "      <td>-7492.925867</td>\n",
       "      <td>-7492.925867</td>\n",
       "      <td>-7492.925867</td>\n",
       "      <td>-7492.925867</td>\n",
       "      <td>-7492.925867</td>\n",
       "      <td>0.0</td>\n",
       "      <td>0.0</td>\n",
       "      <td>0.0</td>\n",
       "      <td>-416.153914</td>\n",
       "    </tr>\n",
       "    <tr>\n",
       "      <th>401</th>\n",
       "      <td>2019-09-27</td>\n",
       "      <td>7076.163303</td>\n",
       "      <td>-518.918525</td>\n",
       "      <td>2213.133052</td>\n",
       "      <td>7076.160743</td>\n",
       "      <td>7076.166042</td>\n",
       "      <td>-6265.889064</td>\n",
       "      <td>-6265.889064</td>\n",
       "      <td>-6265.889064</td>\n",
       "      <td>-6265.889064</td>\n",
       "      <td>-6265.889064</td>\n",
       "      <td>-6265.889064</td>\n",
       "      <td>0.0</td>\n",
       "      <td>0.0</td>\n",
       "      <td>0.0</td>\n",
       "      <td>810.274239</td>\n",
       "    </tr>\n",
       "    <tr>\n",
       "      <th>402</th>\n",
       "      <td>2019-09-28</td>\n",
       "      <td>7075.554651</td>\n",
       "      <td>765.942162</td>\n",
       "      <td>3408.776917</td>\n",
       "      <td>7075.552082</td>\n",
       "      <td>7075.557405</td>\n",
       "      <td>-4936.768985</td>\n",
       "      <td>-4936.768985</td>\n",
       "      <td>-4936.768985</td>\n",
       "      <td>-4936.768985</td>\n",
       "      <td>-4936.768985</td>\n",
       "      <td>-4936.768985</td>\n",
       "      <td>0.0</td>\n",
       "      <td>0.0</td>\n",
       "      <td>0.0</td>\n",
       "      <td>2138.785666</td>\n",
       "    </tr>\n",
       "    <tr>\n",
       "      <th>403</th>\n",
       "      <td>2019-09-29</td>\n",
       "      <td>7074.946000</td>\n",
       "      <td>2221.149317</td>\n",
       "      <td>4857.798344</td>\n",
       "      <td>7074.943419</td>\n",
       "      <td>7074.948766</td>\n",
       "      <td>-3521.454746</td>\n",
       "      <td>-3521.454746</td>\n",
       "      <td>-3521.454746</td>\n",
       "      <td>-3521.454746</td>\n",
       "      <td>-3521.454746</td>\n",
       "      <td>-3521.454746</td>\n",
       "      <td>0.0</td>\n",
       "      <td>0.0</td>\n",
       "      <td>0.0</td>\n",
       "      <td>3553.491254</td>\n",
       "    </tr>\n",
       "    <tr>\n",
       "      <th>404</th>\n",
       "      <td>2019-09-30</td>\n",
       "      <td>7074.337349</td>\n",
       "      <td>3606.144351</td>\n",
       "      <td>6426.193971</td>\n",
       "      <td>7074.334755</td>\n",
       "      <td>7074.340130</td>\n",
       "      <td>-2037.648948</td>\n",
       "      <td>-2037.648948</td>\n",
       "      <td>-2037.648948</td>\n",
       "      <td>-2037.648948</td>\n",
       "      <td>-2037.648948</td>\n",
       "      <td>-2037.648948</td>\n",
       "      <td>0.0</td>\n",
       "      <td>0.0</td>\n",
       "      <td>0.0</td>\n",
       "      <td>5036.688400</td>\n",
       "    </tr>\n",
       "  </tbody>\n",
       "</table>\n",
       "<p>405 rows × 16 columns</p>\n",
       "</div>"
      ]
     },
     "metadata": {},
     "execution_count": 307
    }
   ],
   "metadata": {}
  },
  {
   "cell_type": "code",
   "execution_count": 308,
   "source": [
    "plot1 = m.plot(forecast)\r\n",
    "plot2 = m.plot_components(forecast)"
   ],
   "outputs": [
    {
     "output_type": "display_data",
     "data": {
      "text/plain": [
       "<Figure size 720x432 with 1 Axes>"
      ],
      "image/png": "[encoded data removed]"
     },
     "metadata": {}
    },
    {
     "output_type": "display_data",
     "data": {
      "text/plain": [
       "<Figure size 648x432 with 2 Axes>"
      ],
      "image/png": "[encoded data removed]"
     },
     "metadata": {}
    }
   ],
   "metadata": {}
  }
 ],
 "metadata": {
  "kernelspec": {
   "name": "python3",
   "display_name": "Python 3.7.10 64-bit ('base': conda)"
  },
  "language_info": {
   "codemirror_mode": {
    "name": "ipython",
    "version": 3
   },
   "file_extension": ".py",
   "mimetype": "text/x-python",
   "name": "python",
   "nbconvert_exporter": "python",
   "pygments_lexer": "ipython3",
   "version": "3.7.10"
  },
  "interpreter": {
   "hash": "b3ba2566441a7c06988d0923437866b63cedc61552a5af99d1f4fb67d367b25f"
  }
 },
 "nbformat": 4,
 "nbformat_minor": 1
}