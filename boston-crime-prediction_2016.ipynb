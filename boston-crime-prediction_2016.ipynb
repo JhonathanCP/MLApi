{
 "cells": [
  {
   "cell_type": "markdown",
   "source": [
    "Hello this kernel is a work in process.I will be doing an exploratory data analysis and Crime forecasting in this data set.I will be updating this kernel in coming days.If you like my work please do vote."
   ],
   "metadata": {}
  },
  {
   "cell_type": "code",
   "execution_count": 1,
   "source": [
    "#!conda install -c conda-forge fbprophet -y\r\n",
    "#!pip install folium\r\n",
    "#!pip install pystan\r\n",
    "#!pip install seaborn\r\n",
    "\r\n",
    "# This Python 3 environment comes with many helpful analytics libraries installed\r\n",
    "# It is defined by the kaggle/python docker image: https://github.com/kaggle/docker-python\r\n",
    "# For example, here's several helpful packages to load in \r\n",
    "\r\n",
    "import numpy as np # linear algebra\r\n",
    "import pandas as pd # data processing, CSV file I/O (e.g. pd.read_csv)\r\n",
    "\r\n",
    "# Input data files are available in the \"../input/\" directory.\r\n",
    "# For example, running this (by clicking run or pressing Shift+Enter) will list all files under the input directory\r\n",
    "\r\n",
    "import os\r\n",
    "for dirname, _, filenames in os.walk('./forecasting_dataset'):\r\n",
    "    for filename in filenames:\r\n",
    "        print(os.path.join(dirname, filename))\r\n",
    "\r\n",
    "# Any results you write to the current directory are saved as output."
   ],
   "outputs": [
    {
     "output_type": "stream",
     "name": "stdout",
     "text": [
      "./forecasting_dataset\\2015.csv\n",
      "./forecasting_dataset\\2016.csv\n",
      "./forecasting_dataset\\2017.csv\n",
      "./forecasting_dataset\\2018.csv\n"
     ]
    }
   ],
   "metadata": {
    "_cell_guid": "b1076dfc-b9ad-4769-8c92-a6c4dae69d19",
    "_kg_hide-input": true,
    "_uuid": "8f2839f25d086af736a60e9eeb907d3b93b6e0e5"
   }
  },
  {
   "cell_type": "markdown",
   "source": [
    "#### Importing Python Modules "
   ],
   "metadata": {}
  },
  {
   "cell_type": "code",
   "execution_count": 2,
   "source": [
    "import numpy as np \r\n",
    "import pandas as pd \r\n",
    "import matplotlib.pyplot as plt \r\n",
    "%matplotlib inline \r\n",
    "import seaborn as sns\r\n",
    "import folium\r\n",
    "from folium.plugins import HeatMap\r\n",
    "from fbprophet import Prophet"
   ],
   "outputs": [
    {
     "output_type": "stream",
     "name": "stderr",
     "text": [
      "Importing plotly failed. Interactive plots will not work.\n"
     ]
    }
   ],
   "metadata": {
    "_cell_guid": "79c7e3d0-c299-4dcb-8224-4455121ee9b0",
    "_kg_hide-input": true,
    "_uuid": "d629ff2d2480ee46fbb7e2d37f6b5fab8052498a"
   }
  },
  {
   "cell_type": "code",
   "execution_count": 48,
   "source": [
    "data=pd.read_csv('./forecasting_dataset/2015.csv',encoding='UTF-8')"
   ],
   "outputs": [],
   "metadata": {}
  },
  {
   "cell_type": "code",
   "execution_count": 49,
   "source": [
    "data.head()"
   ],
   "outputs": [
    {
     "output_type": "execute_result",
     "data": {
      "text/plain": [
       "  INCIDENT_NUMBER  OFFENSE_CODE OFFENSE_CODE_GROUP  \\\n",
       "0      I182066132          2629         Harassment   \n",
       "1      I182054888          2647              Other   \n",
       "2      I182052842          1102              Fraud   \n",
       "3      I182052842           619            Larceny   \n",
       "4      I182044114          1107              Fraud   \n",
       "\n",
       "               OFFENSE_DESCRIPTION DISTRICT  OCCURRED_ON_DATE  YEAR  MONTH  \\\n",
       "0                       HARASSMENT       B3  31/07/2015 23:27  2015      7   \n",
       "1        THREATS TO DO BODILY HARM       B2  12/07/2015 15:37  2015      7   \n",
       "2  FRAUD - FALSE PRETENSE / SCHEME       D4  20/12/2015 14:00  2015     12   \n",
       "3               LARCENY ALL OTHERS       D4  20/12/2015 14:00  2015     12   \n",
       "4            FRAUD - IMPERSONATION      E18   1/07/2015 12:00  2015      7   \n",
       "\n",
       "  DAY_OF_WEEK  HOUR        STREET        Lat       Long  \\\n",
       "0      Friday    23  RADCLIFFE ST  42.300202 -71.078354   \n",
       "1      Sunday    15    FAYSTON ST  42.312243 -71.075499   \n",
       "2      Sunday    14  WESTLAND AVE  42.343917 -71.089675   \n",
       "3      Sunday    14  WESTLAND AVE  42.343917 -71.089675   \n",
       "4   Wednesday    12   OAKCREST RD  42.264521 -71.104292   \n",
       "\n",
       "                      Location  \n",
       "0  (42.30020194, -71.07835353)  \n",
       "1  (42.31224327, -71.07549901)  \n",
       "2  (42.34391716, -71.08967541)  \n",
       "3  (42.34391716, -71.08967541)  \n",
       "4  (42.26452149, -71.10429211)  "
      ],
      "text/html": [
       "<div>\n",
       "<style scoped>\n",
       "    .dataframe tbody tr th:only-of-type {\n",
       "        vertical-align: middle;\n",
       "    }\n",
       "\n",
       "    .dataframe tbody tr th {\n",
       "        vertical-align: top;\n",
       "    }\n",
       "\n",
       "    .dataframe thead th {\n",
       "        text-align: right;\n",
       "    }\n",
       "</style>\n",
       "<table border=\"1\" class=\"dataframe\">\n",
       "  <thead>\n",
       "    <tr style=\"text-align: right;\">\n",
       "      <th></th>\n",
       "      <th>INCIDENT_NUMBER</th>\n",
       "      <th>OFFENSE_CODE</th>\n",
       "      <th>OFFENSE_CODE_GROUP</th>\n",
       "      <th>OFFENSE_DESCRIPTION</th>\n",
       "      <th>DISTRICT</th>\n",
       "      <th>OCCURRED_ON_DATE</th>\n",
       "      <th>YEAR</th>\n",
       "      <th>MONTH</th>\n",
       "      <th>DAY_OF_WEEK</th>\n",
       "      <th>HOUR</th>\n",
       "      <th>STREET</th>\n",
       "      <th>Lat</th>\n",
       "      <th>Long</th>\n",
       "      <th>Location</th>\n",
       "    </tr>\n",
       "  </thead>\n",
       "  <tbody>\n",
       "    <tr>\n",
       "      <th>0</th>\n",
       "      <td>I182066132</td>\n",
       "      <td>2629</td>\n",
       "      <td>Harassment</td>\n",
       "      <td>HARASSMENT</td>\n",
       "      <td>B3</td>\n",
       "      <td>31/07/2015 23:27</td>\n",
       "      <td>2015</td>\n",
       "      <td>7</td>\n",
       "      <td>Friday</td>\n",
       "      <td>23</td>\n",
       "      <td>RADCLIFFE ST</td>\n",
       "      <td>42.300202</td>\n",
       "      <td>-71.078354</td>\n",
       "      <td>(42.30020194, -71.07835353)</td>\n",
       "    </tr>\n",
       "    <tr>\n",
       "      <th>1</th>\n",
       "      <td>I182054888</td>\n",
       "      <td>2647</td>\n",
       "      <td>Other</td>\n",
       "      <td>THREATS TO DO BODILY HARM</td>\n",
       "      <td>B2</td>\n",
       "      <td>12/07/2015 15:37</td>\n",
       "      <td>2015</td>\n",
       "      <td>7</td>\n",
       "      <td>Sunday</td>\n",
       "      <td>15</td>\n",
       "      <td>FAYSTON ST</td>\n",
       "      <td>42.312243</td>\n",
       "      <td>-71.075499</td>\n",
       "      <td>(42.31224327, -71.07549901)</td>\n",
       "    </tr>\n",
       "    <tr>\n",
       "      <th>2</th>\n",
       "      <td>I182052842</td>\n",
       "      <td>1102</td>\n",
       "      <td>Fraud</td>\n",
       "      <td>FRAUD - FALSE PRETENSE / SCHEME</td>\n",
       "      <td>D4</td>\n",
       "      <td>20/12/2015 14:00</td>\n",
       "      <td>2015</td>\n",
       "      <td>12</td>\n",
       "      <td>Sunday</td>\n",
       "      <td>14</td>\n",
       "      <td>WESTLAND AVE</td>\n",
       "      <td>42.343917</td>\n",
       "      <td>-71.089675</td>\n",
       "      <td>(42.34391716, -71.08967541)</td>\n",
       "    </tr>\n",
       "    <tr>\n",
       "      <th>3</th>\n",
       "      <td>I182052842</td>\n",
       "      <td>619</td>\n",
       "      <td>Larceny</td>\n",
       "      <td>LARCENY ALL OTHERS</td>\n",
       "      <td>D4</td>\n",
       "      <td>20/12/2015 14:00</td>\n",
       "      <td>2015</td>\n",
       "      <td>12</td>\n",
       "      <td>Sunday</td>\n",
       "      <td>14</td>\n",
       "      <td>WESTLAND AVE</td>\n",
       "      <td>42.343917</td>\n",
       "      <td>-71.089675</td>\n",
       "      <td>(42.34391716, -71.08967541)</td>\n",
       "    </tr>\n",
       "    <tr>\n",
       "      <th>4</th>\n",
       "      <td>I182044114</td>\n",
       "      <td>1107</td>\n",
       "      <td>Fraud</td>\n",
       "      <td>FRAUD - IMPERSONATION</td>\n",
       "      <td>E18</td>\n",
       "      <td>1/07/2015 12:00</td>\n",
       "      <td>2015</td>\n",
       "      <td>7</td>\n",
       "      <td>Wednesday</td>\n",
       "      <td>12</td>\n",
       "      <td>OAKCREST RD</td>\n",
       "      <td>42.264521</td>\n",
       "      <td>-71.104292</td>\n",
       "      <td>(42.26452149, -71.10429211)</td>\n",
       "    </tr>\n",
       "  </tbody>\n",
       "</table>\n",
       "</div>"
      ]
     },
     "metadata": {},
     "execution_count": 49
    }
   ],
   "metadata": {}
  },
  {
   "cell_type": "code",
   "execution_count": 50,
   "source": [
    "data.shape"
   ],
   "outputs": [
    {
     "output_type": "execute_result",
     "data": {
      "text/plain": [
       "(51154, 14)"
      ]
     },
     "metadata": {},
     "execution_count": 50
    }
   ],
   "metadata": {}
  },
  {
   "cell_type": "markdown",
   "source": [
    "#### Renaiming the columns for convinence"
   ],
   "metadata": {}
  },
  {
   "cell_type": "code",
   "execution_count": 51,
   "source": [
    "data1 = data.rename(columns={'OFFENSE_CODE':'Code','OFFENSE_CODE_GROUP':'Group','OFFENSE_DESCRIPTION':'Description','OCCURRED_ON_DATE':'Date'})\r\n",
    "data1.head()"
   ],
   "outputs": [
    {
     "output_type": "execute_result",
     "data": {
      "text/plain": [
       "  INCIDENT_NUMBER  Code       Group                      Description DISTRICT  \\\n",
       "0      I182066132  2629  Harassment                       HARASSMENT       B3   \n",
       "1      I182054888  2647       Other        THREATS TO DO BODILY HARM       B2   \n",
       "2      I182052842  1102       Fraud  FRAUD - FALSE PRETENSE / SCHEME       D4   \n",
       "3      I182052842   619     Larceny               LARCENY ALL OTHERS       D4   \n",
       "4      I182044114  1107       Fraud            FRAUD - IMPERSONATION      E18   \n",
       "\n",
       "               Date  YEAR  MONTH DAY_OF_WEEK  HOUR        STREET        Lat  \\\n",
       "0  31/07/2015 23:27  2015      7      Friday    23  RADCLIFFE ST  42.300202   \n",
       "1  12/07/2015 15:37  2015      7      Sunday    15    FAYSTON ST  42.312243   \n",
       "2  20/12/2015 14:00  2015     12      Sunday    14  WESTLAND AVE  42.343917   \n",
       "3  20/12/2015 14:00  2015     12      Sunday    14  WESTLAND AVE  42.343917   \n",
       "4   1/07/2015 12:00  2015      7   Wednesday    12   OAKCREST RD  42.264521   \n",
       "\n",
       "        Long                     Location  \n",
       "0 -71.078354  (42.30020194, -71.07835353)  \n",
       "1 -71.075499  (42.31224327, -71.07549901)  \n",
       "2 -71.089675  (42.34391716, -71.08967541)  \n",
       "3 -71.089675  (42.34391716, -71.08967541)  \n",
       "4 -71.104292  (42.26452149, -71.10429211)  "
      ],
      "text/html": [
       "<div>\n",
       "<style scoped>\n",
       "    .dataframe tbody tr th:only-of-type {\n",
       "        vertical-align: middle;\n",
       "    }\n",
       "\n",
       "    .dataframe tbody tr th {\n",
       "        vertical-align: top;\n",
       "    }\n",
       "\n",
       "    .dataframe thead th {\n",
       "        text-align: right;\n",
       "    }\n",
       "</style>\n",
       "<table border=\"1\" class=\"dataframe\">\n",
       "  <thead>\n",
       "    <tr style=\"text-align: right;\">\n",
       "      <th></th>\n",
       "      <th>INCIDENT_NUMBER</th>\n",
       "      <th>Code</th>\n",
       "      <th>Group</th>\n",
       "      <th>Description</th>\n",
       "      <th>DISTRICT</th>\n",
       "      <th>Date</th>\n",
       "      <th>YEAR</th>\n",
       "      <th>MONTH</th>\n",
       "      <th>DAY_OF_WEEK</th>\n",
       "      <th>HOUR</th>\n",
       "      <th>STREET</th>\n",
       "      <th>Lat</th>\n",
       "      <th>Long</th>\n",
       "      <th>Location</th>\n",
       "    </tr>\n",
       "  </thead>\n",
       "  <tbody>\n",
       "    <tr>\n",
       "      <th>0</th>\n",
       "      <td>I182066132</td>\n",
       "      <td>2629</td>\n",
       "      <td>Harassment</td>\n",
       "      <td>HARASSMENT</td>\n",
       "      <td>B3</td>\n",
       "      <td>31/07/2015 23:27</td>\n",
       "      <td>2015</td>\n",
       "      <td>7</td>\n",
       "      <td>Friday</td>\n",
       "      <td>23</td>\n",
       "      <td>RADCLIFFE ST</td>\n",
       "      <td>42.300202</td>\n",
       "      <td>-71.078354</td>\n",
       "      <td>(42.30020194, -71.07835353)</td>\n",
       "    </tr>\n",
       "    <tr>\n",
       "      <th>1</th>\n",
       "      <td>I182054888</td>\n",
       "      <td>2647</td>\n",
       "      <td>Other</td>\n",
       "      <td>THREATS TO DO BODILY HARM</td>\n",
       "      <td>B2</td>\n",
       "      <td>12/07/2015 15:37</td>\n",
       "      <td>2015</td>\n",
       "      <td>7</td>\n",
       "      <td>Sunday</td>\n",
       "      <td>15</td>\n",
       "      <td>FAYSTON ST</td>\n",
       "      <td>42.312243</td>\n",
       "      <td>-71.075499</td>\n",
       "      <td>(42.31224327, -71.07549901)</td>\n",
       "    </tr>\n",
       "    <tr>\n",
       "      <th>2</th>\n",
       "      <td>I182052842</td>\n",
       "      <td>1102</td>\n",
       "      <td>Fraud</td>\n",
       "      <td>FRAUD - FALSE PRETENSE / SCHEME</td>\n",
       "      <td>D4</td>\n",
       "      <td>20/12/2015 14:00</td>\n",
       "      <td>2015</td>\n",
       "      <td>12</td>\n",
       "      <td>Sunday</td>\n",
       "      <td>14</td>\n",
       "      <td>WESTLAND AVE</td>\n",
       "      <td>42.343917</td>\n",
       "      <td>-71.089675</td>\n",
       "      <td>(42.34391716, -71.08967541)</td>\n",
       "    </tr>\n",
       "    <tr>\n",
       "      <th>3</th>\n",
       "      <td>I182052842</td>\n",
       "      <td>619</td>\n",
       "      <td>Larceny</td>\n",
       "      <td>LARCENY ALL OTHERS</td>\n",
       "      <td>D4</td>\n",
       "      <td>20/12/2015 14:00</td>\n",
       "      <td>2015</td>\n",
       "      <td>12</td>\n",
       "      <td>Sunday</td>\n",
       "      <td>14</td>\n",
       "      <td>WESTLAND AVE</td>\n",
       "      <td>42.343917</td>\n",
       "      <td>-71.089675</td>\n",
       "      <td>(42.34391716, -71.08967541)</td>\n",
       "    </tr>\n",
       "    <tr>\n",
       "      <th>4</th>\n",
       "      <td>I182044114</td>\n",
       "      <td>1107</td>\n",
       "      <td>Fraud</td>\n",
       "      <td>FRAUD - IMPERSONATION</td>\n",
       "      <td>E18</td>\n",
       "      <td>1/07/2015 12:00</td>\n",
       "      <td>2015</td>\n",
       "      <td>7</td>\n",
       "      <td>Wednesday</td>\n",
       "      <td>12</td>\n",
       "      <td>OAKCREST RD</td>\n",
       "      <td>42.264521</td>\n",
       "      <td>-71.104292</td>\n",
       "      <td>(42.26452149, -71.10429211)</td>\n",
       "    </tr>\n",
       "  </tbody>\n",
       "</table>\n",
       "</div>"
      ]
     },
     "metadata": {},
     "execution_count": 51
    }
   ],
   "metadata": {}
  },
  {
   "cell_type": "markdown",
   "source": [
    "#### Finding the missing data "
   ],
   "metadata": {}
  },
  {
   "cell_type": "code",
   "execution_count": 52,
   "source": [
    "#!pip install seaborn\r\n",
    "#!pip install --upgrade seaborn\r\n",
    "plt.figure(figsize=(10,10))\r\n",
    "sns.heatmap(data1.isnull(),cbar=False,cmap='YlGnBu')\r\n",
    "plt.ioff()"
   ],
   "outputs": [
    {
     "output_type": "display_data",
     "data": {
      "text/plain": [
       "<Figure size 720x720 with 1 Axes>"
      ],
      "image/png": "[encoded data removed]"
     },
     "metadata": {
      "needs_background": "light"
     }
    }
   ],
   "metadata": {}
  },
  {
   "cell_type": "markdown",
   "source": [
    "All the horizontal lines show the missing data in the dataset.Let us clean up the missing data by dropping the columns with missing data.Also the columns getting dropped will not have an affect on the forecasting of the crime."
   ],
   "metadata": {}
  },
  {
   "cell_type": "markdown",
   "source": [
    "#### Dropping the unwanted columns"
   ],
   "metadata": {}
  },
  {
   "cell_type": "code",
   "execution_count": 53,
   "source": [
    "data1.drop(['INCIDENT_NUMBER','Code','Lat','Long','Location'],inplace=True,axis=1)\r\n",
    "data1.head()"
   ],
   "outputs": [
    {
     "output_type": "execute_result",
     "data": {
      "text/plain": [
       "        Group                      Description DISTRICT              Date  \\\n",
       "0  Harassment                       HARASSMENT       B3  31/07/2015 23:27   \n",
       "1       Other        THREATS TO DO BODILY HARM       B2  12/07/2015 15:37   \n",
       "2       Fraud  FRAUD - FALSE PRETENSE / SCHEME       D4  20/12/2015 14:00   \n",
       "3     Larceny               LARCENY ALL OTHERS       D4  20/12/2015 14:00   \n",
       "4       Fraud            FRAUD - IMPERSONATION      E18   1/07/2015 12:00   \n",
       "\n",
       "   YEAR  MONTH DAY_OF_WEEK  HOUR        STREET  \n",
       "0  2015      7      Friday    23  RADCLIFFE ST  \n",
       "1  2015      7      Sunday    15    FAYSTON ST  \n",
       "2  2015     12      Sunday    14  WESTLAND AVE  \n",
       "3  2015     12      Sunday    14  WESTLAND AVE  \n",
       "4  2015      7   Wednesday    12   OAKCREST RD  "
      ],
      "text/html": [
       "<div>\n",
       "<style scoped>\n",
       "    .dataframe tbody tr th:only-of-type {\n",
       "        vertical-align: middle;\n",
       "    }\n",
       "\n",
       "    .dataframe tbody tr th {\n",
       "        vertical-align: top;\n",
       "    }\n",
       "\n",
       "    .dataframe thead th {\n",
       "        text-align: right;\n",
       "    }\n",
       "</style>\n",
       "<table border=\"1\" class=\"dataframe\">\n",
       "  <thead>\n",
       "    <tr style=\"text-align: right;\">\n",
       "      <th></th>\n",
       "      <th>Group</th>\n",
       "      <th>Description</th>\n",
       "      <th>DISTRICT</th>\n",
       "      <th>Date</th>\n",
       "      <th>YEAR</th>\n",
       "      <th>MONTH</th>\n",
       "      <th>DAY_OF_WEEK</th>\n",
       "      <th>HOUR</th>\n",
       "      <th>STREET</th>\n",
       "    </tr>\n",
       "  </thead>\n",
       "  <tbody>\n",
       "    <tr>\n",
       "      <th>0</th>\n",
       "      <td>Harassment</td>\n",
       "      <td>HARASSMENT</td>\n",
       "      <td>B3</td>\n",
       "      <td>31/07/2015 23:27</td>\n",
       "      <td>2015</td>\n",
       "      <td>7</td>\n",
       "      <td>Friday</td>\n",
       "      <td>23</td>\n",
       "      <td>RADCLIFFE ST</td>\n",
       "    </tr>\n",
       "    <tr>\n",
       "      <th>1</th>\n",
       "      <td>Other</td>\n",
       "      <td>THREATS TO DO BODILY HARM</td>\n",
       "      <td>B2</td>\n",
       "      <td>12/07/2015 15:37</td>\n",
       "      <td>2015</td>\n",
       "      <td>7</td>\n",
       "      <td>Sunday</td>\n",
       "      <td>15</td>\n",
       "      <td>FAYSTON ST</td>\n",
       "    </tr>\n",
       "    <tr>\n",
       "      <th>2</th>\n",
       "      <td>Fraud</td>\n",
       "      <td>FRAUD - FALSE PRETENSE / SCHEME</td>\n",
       "      <td>D4</td>\n",
       "      <td>20/12/2015 14:00</td>\n",
       "      <td>2015</td>\n",
       "      <td>12</td>\n",
       "      <td>Sunday</td>\n",
       "      <td>14</td>\n",
       "      <td>WESTLAND AVE</td>\n",
       "    </tr>\n",
       "    <tr>\n",
       "      <th>3</th>\n",
       "      <td>Larceny</td>\n",
       "      <td>LARCENY ALL OTHERS</td>\n",
       "      <td>D4</td>\n",
       "      <td>20/12/2015 14:00</td>\n",
       "      <td>2015</td>\n",
       "      <td>12</td>\n",
       "      <td>Sunday</td>\n",
       "      <td>14</td>\n",
       "      <td>WESTLAND AVE</td>\n",
       "    </tr>\n",
       "    <tr>\n",
       "      <th>4</th>\n",
       "      <td>Fraud</td>\n",
       "      <td>FRAUD - IMPERSONATION</td>\n",
       "      <td>E18</td>\n",
       "      <td>1/07/2015 12:00</td>\n",
       "      <td>2015</td>\n",
       "      <td>7</td>\n",
       "      <td>Wednesday</td>\n",
       "      <td>12</td>\n",
       "      <td>OAKCREST RD</td>\n",
       "    </tr>\n",
       "  </tbody>\n",
       "</table>\n",
       "</div>"
      ]
     },
     "metadata": {},
     "execution_count": 53
    }
   ],
   "metadata": {}
  },
  {
   "cell_type": "markdown",
   "source": [
    "#### Arranging the date in datetime format"
   ],
   "metadata": {}
  },
  {
   "cell_type": "code",
   "execution_count": 58,
   "source": [
    "data1['Date']=pd.to_datetime(data1['Date'], dayfirst=True)\r\n",
    "data1.head()"
   ],
   "outputs": [
    {
     "output_type": "execute_result",
     "data": {
      "text/plain": [
       "        Group                      Description DISTRICT                Date  \\\n",
       "0  Harassment                       HARASSMENT       B3 2015-07-31 23:27:00   \n",
       "1       Other        THREATS TO DO BODILY HARM       B2 2015-07-12 15:37:00   \n",
       "2       Fraud  FRAUD - FALSE PRETENSE / SCHEME       D4 2015-12-20 14:00:00   \n",
       "3     Larceny               LARCENY ALL OTHERS       D4 2015-12-20 14:00:00   \n",
       "4       Fraud            FRAUD - IMPERSONATION      E18 2015-07-01 12:00:00   \n",
       "\n",
       "   YEAR  MONTH DAY_OF_WEEK  HOUR        STREET  \n",
       "0  2015      7      Friday    23  RADCLIFFE ST  \n",
       "1  2015      7      Sunday    15    FAYSTON ST  \n",
       "2  2015     12      Sunday    14  WESTLAND AVE  \n",
       "3  2015     12      Sunday    14  WESTLAND AVE  \n",
       "4  2015      7   Wednesday    12   OAKCREST RD  "
      ],
      "text/html": [
       "<div>\n",
       "<style scoped>\n",
       "    .dataframe tbody tr th:only-of-type {\n",
       "        vertical-align: middle;\n",
       "    }\n",
       "\n",
       "    .dataframe tbody tr th {\n",
       "        vertical-align: top;\n",
       "    }\n",
       "\n",
       "    .dataframe thead th {\n",
       "        text-align: right;\n",
       "    }\n",
       "</style>\n",
       "<table border=\"1\" class=\"dataframe\">\n",
       "  <thead>\n",
       "    <tr style=\"text-align: right;\">\n",
       "      <th></th>\n",
       "      <th>Group</th>\n",
       "      <th>Description</th>\n",
       "      <th>DISTRICT</th>\n",
       "      <th>Date</th>\n",
       "      <th>YEAR</th>\n",
       "      <th>MONTH</th>\n",
       "      <th>DAY_OF_WEEK</th>\n",
       "      <th>HOUR</th>\n",
       "      <th>STREET</th>\n",
       "    </tr>\n",
       "  </thead>\n",
       "  <tbody>\n",
       "    <tr>\n",
       "      <th>0</th>\n",
       "      <td>Harassment</td>\n",
       "      <td>HARASSMENT</td>\n",
       "      <td>B3</td>\n",
       "      <td>2015-07-31 23:27:00</td>\n",
       "      <td>2015</td>\n",
       "      <td>7</td>\n",
       "      <td>Friday</td>\n",
       "      <td>23</td>\n",
       "      <td>RADCLIFFE ST</td>\n",
       "    </tr>\n",
       "    <tr>\n",
       "      <th>1</th>\n",
       "      <td>Other</td>\n",
       "      <td>THREATS TO DO BODILY HARM</td>\n",
       "      <td>B2</td>\n",
       "      <td>2015-07-12 15:37:00</td>\n",
       "      <td>2015</td>\n",
       "      <td>7</td>\n",
       "      <td>Sunday</td>\n",
       "      <td>15</td>\n",
       "      <td>FAYSTON ST</td>\n",
       "    </tr>\n",
       "    <tr>\n",
       "      <th>2</th>\n",
       "      <td>Fraud</td>\n",
       "      <td>FRAUD - FALSE PRETENSE / SCHEME</td>\n",
       "      <td>D4</td>\n",
       "      <td>2015-12-20 14:00:00</td>\n",
       "      <td>2015</td>\n",
       "      <td>12</td>\n",
       "      <td>Sunday</td>\n",
       "      <td>14</td>\n",
       "      <td>WESTLAND AVE</td>\n",
       "    </tr>\n",
       "    <tr>\n",
       "      <th>3</th>\n",
       "      <td>Larceny</td>\n",
       "      <td>LARCENY ALL OTHERS</td>\n",
       "      <td>D4</td>\n",
       "      <td>2015-12-20 14:00:00</td>\n",
       "      <td>2015</td>\n",
       "      <td>12</td>\n",
       "      <td>Sunday</td>\n",
       "      <td>14</td>\n",
       "      <td>WESTLAND AVE</td>\n",
       "    </tr>\n",
       "    <tr>\n",
       "      <th>4</th>\n",
       "      <td>Fraud</td>\n",
       "      <td>FRAUD - IMPERSONATION</td>\n",
       "      <td>E18</td>\n",
       "      <td>2015-07-01 12:00:00</td>\n",
       "      <td>2015</td>\n",
       "      <td>7</td>\n",
       "      <td>Wednesday</td>\n",
       "      <td>12</td>\n",
       "      <td>OAKCREST RD</td>\n",
       "    </tr>\n",
       "  </tbody>\n",
       "</table>\n",
       "</div>"
      ]
     },
     "metadata": {},
     "execution_count": 58
    }
   ],
   "metadata": {}
  },
  {
   "cell_type": "code",
   "execution_count": 59,
   "source": [
    "data1.Date"
   ],
   "outputs": [
    {
     "output_type": "execute_result",
     "data": {
      "text/plain": [
       "0       2015-07-31 23:27:00\n",
       "1       2015-07-12 15:37:00\n",
       "2       2015-12-20 14:00:00\n",
       "3       2015-12-20 14:00:00\n",
       "4       2015-07-01 12:00:00\n",
       "                ...        \n",
       "51149   2015-08-12 12:00:00\n",
       "51150   2015-08-12 12:00:00\n",
       "51151   2015-07-09 13:38:00\n",
       "51152   2015-07-09 13:38:00\n",
       "51153   2015-06-22 00:12:00\n",
       "Name: Date, Length: 51154, dtype: datetime64[ns]"
      ]
     },
     "metadata": {},
     "execution_count": 59
    }
   ],
   "metadata": {}
  },
  {
   "cell_type": "code",
   "execution_count": 60,
   "source": [
    "data1.index=pd.DatetimeIndex(data1.Date)\r\n",
    "data1.head()"
   ],
   "outputs": [
    {
     "output_type": "execute_result",
     "data": {
      "text/plain": [
       "                          Group                      Description DISTRICT  \\\n",
       "Date                                                                        \n",
       "2015-07-31 23:27:00  Harassment                       HARASSMENT       B3   \n",
       "2015-07-12 15:37:00       Other        THREATS TO DO BODILY HARM       B2   \n",
       "2015-12-20 14:00:00       Fraud  FRAUD - FALSE PRETENSE / SCHEME       D4   \n",
       "2015-12-20 14:00:00     Larceny               LARCENY ALL OTHERS       D4   \n",
       "2015-07-01 12:00:00       Fraud            FRAUD - IMPERSONATION      E18   \n",
       "\n",
       "                                   Date  YEAR  MONTH DAY_OF_WEEK  HOUR  \\\n",
       "Date                                                                     \n",
       "2015-07-31 23:27:00 2015-07-31 23:27:00  2015      7      Friday    23   \n",
       "2015-07-12 15:37:00 2015-07-12 15:37:00  2015      7      Sunday    15   \n",
       "2015-12-20 14:00:00 2015-12-20 14:00:00  2015     12      Sunday    14   \n",
       "2015-12-20 14:00:00 2015-12-20 14:00:00  2015     12      Sunday    14   \n",
       "2015-07-01 12:00:00 2015-07-01 12:00:00  2015      7   Wednesday    12   \n",
       "\n",
       "                           STREET  \n",
       "Date                               \n",
       "2015-07-31 23:27:00  RADCLIFFE ST  \n",
       "2015-07-12 15:37:00    FAYSTON ST  \n",
       "2015-12-20 14:00:00  WESTLAND AVE  \n",
       "2015-12-20 14:00:00  WESTLAND AVE  \n",
       "2015-07-01 12:00:00   OAKCREST RD  "
      ],
      "text/html": [
       "<div>\n",
       "<style scoped>\n",
       "    .dataframe tbody tr th:only-of-type {\n",
       "        vertical-align: middle;\n",
       "    }\n",
       "\n",
       "    .dataframe tbody tr th {\n",
       "        vertical-align: top;\n",
       "    }\n",
       "\n",
       "    .dataframe thead th {\n",
       "        text-align: right;\n",
       "    }\n",
       "</style>\n",
       "<table border=\"1\" class=\"dataframe\">\n",
       "  <thead>\n",
       "    <tr style=\"text-align: right;\">\n",
       "      <th></th>\n",
       "      <th>Group</th>\n",
       "      <th>Description</th>\n",
       "      <th>DISTRICT</th>\n",
       "      <th>Date</th>\n",
       "      <th>YEAR</th>\n",
       "      <th>MONTH</th>\n",
       "      <th>DAY_OF_WEEK</th>\n",
       "      <th>HOUR</th>\n",
       "      <th>STREET</th>\n",
       "    </tr>\n",
       "    <tr>\n",
       "      <th>Date</th>\n",
       "      <th></th>\n",
       "      <th></th>\n",
       "      <th></th>\n",
       "      <th></th>\n",
       "      <th></th>\n",
       "      <th></th>\n",
       "      <th></th>\n",
       "      <th></th>\n",
       "      <th></th>\n",
       "    </tr>\n",
       "  </thead>\n",
       "  <tbody>\n",
       "    <tr>\n",
       "      <th>2015-07-31 23:27:00</th>\n",
       "      <td>Harassment</td>\n",
       "      <td>HARASSMENT</td>\n",
       "      <td>B3</td>\n",
       "      <td>2015-07-31 23:27:00</td>\n",
       "      <td>2015</td>\n",
       "      <td>7</td>\n",
       "      <td>Friday</td>\n",
       "      <td>23</td>\n",
       "      <td>RADCLIFFE ST</td>\n",
       "    </tr>\n",
       "    <tr>\n",
       "      <th>2015-07-12 15:37:00</th>\n",
       "      <td>Other</td>\n",
       "      <td>THREATS TO DO BODILY HARM</td>\n",
       "      <td>B2</td>\n",
       "      <td>2015-07-12 15:37:00</td>\n",
       "      <td>2015</td>\n",
       "      <td>7</td>\n",
       "      <td>Sunday</td>\n",
       "      <td>15</td>\n",
       "      <td>FAYSTON ST</td>\n",
       "    </tr>\n",
       "    <tr>\n",
       "      <th>2015-12-20 14:00:00</th>\n",
       "      <td>Fraud</td>\n",
       "      <td>FRAUD - FALSE PRETENSE / SCHEME</td>\n",
       "      <td>D4</td>\n",
       "      <td>2015-12-20 14:00:00</td>\n",
       "      <td>2015</td>\n",
       "      <td>12</td>\n",
       "      <td>Sunday</td>\n",
       "      <td>14</td>\n",
       "      <td>WESTLAND AVE</td>\n",
       "    </tr>\n",
       "    <tr>\n",
       "      <th>2015-12-20 14:00:00</th>\n",
       "      <td>Larceny</td>\n",
       "      <td>LARCENY ALL OTHERS</td>\n",
       "      <td>D4</td>\n",
       "      <td>2015-12-20 14:00:00</td>\n",
       "      <td>2015</td>\n",
       "      <td>12</td>\n",
       "      <td>Sunday</td>\n",
       "      <td>14</td>\n",
       "      <td>WESTLAND AVE</td>\n",
       "    </tr>\n",
       "    <tr>\n",
       "      <th>2015-07-01 12:00:00</th>\n",
       "      <td>Fraud</td>\n",
       "      <td>FRAUD - IMPERSONATION</td>\n",
       "      <td>E18</td>\n",
       "      <td>2015-07-01 12:00:00</td>\n",
       "      <td>2015</td>\n",
       "      <td>7</td>\n",
       "      <td>Wednesday</td>\n",
       "      <td>12</td>\n",
       "      <td>OAKCREST RD</td>\n",
       "    </tr>\n",
       "  </tbody>\n",
       "</table>\n",
       "</div>"
      ]
     },
     "metadata": {},
     "execution_count": 60
    }
   ],
   "metadata": {}
  },
  {
   "cell_type": "markdown",
   "source": [
    "#### Getting information most recurring Crime"
   ],
   "metadata": {}
  },
  {
   "cell_type": "code",
   "execution_count": 61,
   "source": [
    "data1['Group'].value_counts()"
   ],
   "outputs": [
    {
     "output_type": "execute_result",
     "data": {
      "text/plain": [
       "Motor Vehicle Accident Response    5297\n",
       "Larceny                            4898\n",
       "Other                              3243\n",
       "Drug Violation                     3060\n",
       "Medical Assistance                 3047\n",
       "                                   ... \n",
       "Harbor Related Incidents              5\n",
       "Aircraft                              4\n",
       "Gambling                              2\n",
       "INVESTIGATE PERSON                    1\n",
       "Burglary - No Property Taken          1\n",
       "Name: Group, Length: 62, dtype: int64"
      ]
     },
     "metadata": {},
     "execution_count": 61
    }
   ],
   "metadata": {}
  },
  {
   "cell_type": "code",
   "execution_count": 62,
   "source": [
    "data1['Group'].value_counts().iloc[:15]"
   ],
   "outputs": [
    {
     "output_type": "execute_result",
     "data": {
      "text/plain": [
       "Motor Vehicle Accident Response    5297\n",
       "Larceny                            4898\n",
       "Other                              3243\n",
       "Drug Violation                     3060\n",
       "Medical Assistance                 3047\n",
       "Vandalism                          2662\n",
       "Simple Assault                     2514\n",
       "Investigate Person                 2452\n",
       "Larceny From Motor Vehicle         2040\n",
       "Towed                              1539\n",
       "Verbal Disputes                    1501\n",
       "Property Lost                      1480\n",
       "Residential Burglary               1414\n",
       "Aggravated Assault                 1316\n",
       "Warrant Arrests                    1234\n",
       "Name: Group, dtype: int64"
      ]
     },
     "metadata": {},
     "execution_count": 62
    }
   ],
   "metadata": {}
  },
  {
   "cell_type": "code",
   "execution_count": 63,
   "source": [
    "order_data=data1['Group'].value_counts().iloc[:15].index\r\n",
    "plt.figure(figsize=(15,10))\r\n",
    "sns.countplot(y='Group',data=data1,order=order_data)\r\n",
    "plt.ioff()"
   ],
   "outputs": [
    {
     "output_type": "display_data",
     "data": {
      "text/plain": [
       "<Figure size 1080x720 with 1 Axes>"
      ],
      "image/png": "[encoded data removed]"
     },
     "metadata": {
      "needs_background": "light"
     }
    }
   ],
   "metadata": {
    "_kg_hide-input": true
   }
  },
  {
   "cell_type": "markdown",
   "source": [
    "So we can clearly see that the motor vehicle accident,theft and medical assistance are most crime indidents reported in Boston."
   ],
   "metadata": {}
  },
  {
   "cell_type": "markdown",
   "source": [
    "#### Resampling the data: \n",
    "This is done to segregate the crime count based on time period like month,quarter and year"
   ],
   "metadata": {}
  },
  {
   "cell_type": "code",
   "execution_count": 64,
   "source": [
    "data1.resample('Y').size()"
   ],
   "outputs": [
    {
     "output_type": "execute_result",
     "data": {
      "text/plain": [
       "Date\n",
       "2015-12-31    51154\n",
       "Freq: A-DEC, dtype: int64"
      ]
     },
     "metadata": {},
     "execution_count": 64
    }
   ],
   "metadata": {}
  },
  {
   "cell_type": "code",
   "execution_count": 65,
   "source": [
    "#plt.plot(data1.resample('Y').size())\r\n",
    "#plt.title('Crime Count Per Year')\r\n",
    "#plt.xlabel('Years')\r\n",
    "#plt.ylabel('Number of Crimes')\r\n",
    "#plt.ioff()"
   ],
   "outputs": [],
   "metadata": {
    "_kg_hide-input": true
   }
  },
  {
   "cell_type": "code",
   "execution_count": 66,
   "source": [
    "plt.plot(data1.resample('M').size())\r\n",
    "plt.title('Crime Count Per Month')\r\n",
    "plt.xlabel('Months')\r\n",
    "plt.ylabel('Number of Crimes')\r\n",
    "plt.ioff()"
   ],
   "outputs": [
    {
     "output_type": "display_data",
     "data": {
      "text/plain": [
       "<Figure size 432x288 with 1 Axes>"
      ],
      "image/png": "[encoded data removed]"
     },
     "metadata": {
      "needs_background": "light"
     }
    }
   ],
   "metadata": {
    "_kg_hide-input": true
   }
  },
  {
   "cell_type": "code",
   "execution_count": 67,
   "source": [
    "plt.plot(data1.resample('Q').size())\r\n",
    "plt.title('Crime Count Per Quarter')\r\n",
    "plt.xlabel('Quaterly')\r\n",
    "plt.ylabel('Number of Crimes')\r\n",
    "plt.ioff()"
   ],
   "outputs": [
    {
     "output_type": "display_data",
     "data": {
      "text/plain": [
       "<Figure size 432x288 with 1 Axes>"
      ],
      "image/png": "[encoded data removed]"
     },
     "metadata": {
      "needs_background": "light"
     }
    }
   ],
   "metadata": {
    "_kg_hide-input": true
   }
  },
  {
   "cell_type": "markdown",
   "source": [
    "The X axis values and not getting displayed correctly.I am not sure why ? May be someone can throw some light on what needs to be done"
   ],
   "metadata": {}
  },
  {
   "cell_type": "markdown",
   "source": [
    "#### Preparing the data "
   ],
   "metadata": {}
  },
  {
   "cell_type": "code",
   "execution_count": 68,
   "source": [
    "Boston_prophet=data1.resample('M').size().reset_index()"
   ],
   "outputs": [],
   "metadata": {}
  },
  {
   "cell_type": "code",
   "execution_count": 69,
   "source": [
    "Boston_prophet.head()"
   ],
   "outputs": [
    {
     "output_type": "execute_result",
     "data": {
      "text/plain": [
       "        Date     0\n",
       "0 2015-06-30  4059\n",
       "1 2015-07-31  8023\n",
       "2 2015-08-31  8015\n",
       "3 2015-09-30  8044\n",
       "4 2015-10-31  7957"
      ],
      "text/html": [
       "<div>\n",
       "<style scoped>\n",
       "    .dataframe tbody tr th:only-of-type {\n",
       "        vertical-align: middle;\n",
       "    }\n",
       "\n",
       "    .dataframe tbody tr th {\n",
       "        vertical-align: top;\n",
       "    }\n",
       "\n",
       "    .dataframe thead th {\n",
       "        text-align: right;\n",
       "    }\n",
       "</style>\n",
       "<table border=\"1\" class=\"dataframe\">\n",
       "  <thead>\n",
       "    <tr style=\"text-align: right;\">\n",
       "      <th></th>\n",
       "      <th>Date</th>\n",
       "      <th>0</th>\n",
       "    </tr>\n",
       "  </thead>\n",
       "  <tbody>\n",
       "    <tr>\n",
       "      <th>0</th>\n",
       "      <td>2015-06-30</td>\n",
       "      <td>4059</td>\n",
       "    </tr>\n",
       "    <tr>\n",
       "      <th>1</th>\n",
       "      <td>2015-07-31</td>\n",
       "      <td>8023</td>\n",
       "    </tr>\n",
       "    <tr>\n",
       "      <th>2</th>\n",
       "      <td>2015-08-31</td>\n",
       "      <td>8015</td>\n",
       "    </tr>\n",
       "    <tr>\n",
       "      <th>3</th>\n",
       "      <td>2015-09-30</td>\n",
       "      <td>8044</td>\n",
       "    </tr>\n",
       "    <tr>\n",
       "      <th>4</th>\n",
       "      <td>2015-10-31</td>\n",
       "      <td>7957</td>\n",
       "    </tr>\n",
       "  </tbody>\n",
       "</table>\n",
       "</div>"
      ]
     },
     "metadata": {},
     "execution_count": 69
    }
   ],
   "metadata": {}
  },
  {
   "cell_type": "markdown",
   "source": [
    "#### Renaming the columns of Boston_prophet"
   ],
   "metadata": {}
  },
  {
   "cell_type": "code",
   "execution_count": 70,
   "source": [
    "Boston_prophet.columns=['Date','Crime_Count']"
   ],
   "outputs": [],
   "metadata": {}
  },
  {
   "cell_type": "code",
   "execution_count": 71,
   "source": [
    "Boston_prophet.head()"
   ],
   "outputs": [
    {
     "output_type": "execute_result",
     "data": {
      "text/plain": [
       "        Date  Crime_Count\n",
       "0 2015-06-30         4059\n",
       "1 2015-07-31         8023\n",
       "2 2015-08-31         8015\n",
       "3 2015-09-30         8044\n",
       "4 2015-10-31         7957"
      ],
      "text/html": [
       "<div>\n",
       "<style scoped>\n",
       "    .dataframe tbody tr th:only-of-type {\n",
       "        vertical-align: middle;\n",
       "    }\n",
       "\n",
       "    .dataframe tbody tr th {\n",
       "        vertical-align: top;\n",
       "    }\n",
       "\n",
       "    .dataframe thead th {\n",
       "        text-align: right;\n",
       "    }\n",
       "</style>\n",
       "<table border=\"1\" class=\"dataframe\">\n",
       "  <thead>\n",
       "    <tr style=\"text-align: right;\">\n",
       "      <th></th>\n",
       "      <th>Date</th>\n",
       "      <th>Crime_Count</th>\n",
       "    </tr>\n",
       "  </thead>\n",
       "  <tbody>\n",
       "    <tr>\n",
       "      <th>0</th>\n",
       "      <td>2015-06-30</td>\n",
       "      <td>4059</td>\n",
       "    </tr>\n",
       "    <tr>\n",
       "      <th>1</th>\n",
       "      <td>2015-07-31</td>\n",
       "      <td>8023</td>\n",
       "    </tr>\n",
       "    <tr>\n",
       "      <th>2</th>\n",
       "      <td>2015-08-31</td>\n",
       "      <td>8015</td>\n",
       "    </tr>\n",
       "    <tr>\n",
       "      <th>3</th>\n",
       "      <td>2015-09-30</td>\n",
       "      <td>8044</td>\n",
       "    </tr>\n",
       "    <tr>\n",
       "      <th>4</th>\n",
       "      <td>2015-10-31</td>\n",
       "      <td>7957</td>\n",
       "    </tr>\n",
       "  </tbody>\n",
       "</table>\n",
       "</div>"
      ]
     },
     "metadata": {},
     "execution_count": 71
    }
   ],
   "metadata": {}
  },
  {
   "cell_type": "code",
   "execution_count": 72,
   "source": [
    "Boston_prophet_final=Boston_prophet.rename(columns={'Date':'ds','Crime_Count':'y'})"
   ],
   "outputs": [],
   "metadata": {}
  },
  {
   "cell_type": "code",
   "execution_count": 73,
   "source": [
    "Boston_prophet_final.head()"
   ],
   "outputs": [
    {
     "output_type": "execute_result",
     "data": {
      "text/plain": [
       "          ds     y\n",
       "0 2015-06-30  4059\n",
       "1 2015-07-31  8023\n",
       "2 2015-08-31  8015\n",
       "3 2015-09-30  8044\n",
       "4 2015-10-31  7957"
      ],
      "text/html": [
       "<div>\n",
       "<style scoped>\n",
       "    .dataframe tbody tr th:only-of-type {\n",
       "        vertical-align: middle;\n",
       "    }\n",
       "\n",
       "    .dataframe tbody tr th {\n",
       "        vertical-align: top;\n",
       "    }\n",
       "\n",
       "    .dataframe thead th {\n",
       "        text-align: right;\n",
       "    }\n",
       "</style>\n",
       "<table border=\"1\" class=\"dataframe\">\n",
       "  <thead>\n",
       "    <tr style=\"text-align: right;\">\n",
       "      <th></th>\n",
       "      <th>ds</th>\n",
       "      <th>y</th>\n",
       "    </tr>\n",
       "  </thead>\n",
       "  <tbody>\n",
       "    <tr>\n",
       "      <th>0</th>\n",
       "      <td>2015-06-30</td>\n",
       "      <td>4059</td>\n",
       "    </tr>\n",
       "    <tr>\n",
       "      <th>1</th>\n",
       "      <td>2015-07-31</td>\n",
       "      <td>8023</td>\n",
       "    </tr>\n",
       "    <tr>\n",
       "      <th>2</th>\n",
       "      <td>2015-08-31</td>\n",
       "      <td>8015</td>\n",
       "    </tr>\n",
       "    <tr>\n",
       "      <th>3</th>\n",
       "      <td>2015-09-30</td>\n",
       "      <td>8044</td>\n",
       "    </tr>\n",
       "    <tr>\n",
       "      <th>4</th>\n",
       "      <td>2015-10-31</td>\n",
       "      <td>7957</td>\n",
       "    </tr>\n",
       "  </tbody>\n",
       "</table>\n",
       "</div>"
      ]
     },
     "metadata": {},
     "execution_count": 73
    }
   ],
   "metadata": {}
  },
  {
   "cell_type": "markdown",
   "source": [
    "#### Make Predictions"
   ],
   "metadata": {}
  },
  {
   "cell_type": "code",
   "execution_count": 110,
   "source": [
    "#!pip install --upgrade holidays pystan\r\n",
    "#!pip install pystan==2.19.1.1 prophet\r\n",
    "#!pip install prophet\r\n",
    "#!conda install -c conda-forge prophet -y\r\n",
    "#from prophet import Prophet\r\n",
    "m=Prophet(interval_width=0.95, daily_seasonality=True)\r\n",
    "model = m.fit(Boston_prophet_final)"
   ],
   "outputs": [
    {
     "output_type": "stream",
     "name": "stderr",
     "text": [
      "INFO:fbprophet:Disabling yearly seasonality. Run prophet with yearly_seasonality=True to override this.\n",
      "INFO:fbprophet:Disabling weekly seasonality. Run prophet with weekly_seasonality=True to override this.\n",
      "INFO:fbprophet:n_changepoints greater than number of observations. Using 4.\n"
     ]
    }
   ],
   "metadata": {}
  },
  {
   "cell_type": "code",
   "execution_count": 115,
   "source": [
    "future=m.make_future_dataframe(periods=365, freq='D')\r\n",
    "forecast=m.predict(future)"
   ],
   "outputs": [],
   "metadata": {}
  },
  {
   "cell_type": "code",
   "execution_count": 116,
   "source": [
    "forecast"
   ],
   "outputs": [
    {
     "output_type": "execute_result",
     "data": {
      "text/plain": [
       "            ds        trend    yhat_lower    yhat_upper  trend_lower  \\\n",
       "0   2015-06-30   377.610583   4101.189659   8367.665542   377.610583   \n",
       "1   2015-07-31   719.817857   4353.934645   8964.711172   719.817857   \n",
       "2   2015-08-31  1062.025132   4815.493711   9157.575705  1062.025132   \n",
       "3   2015-09-30  1393.193463   5066.136880   9674.406261  1393.193463   \n",
       "4   2015-10-31  1735.400739   5484.038908   9903.043784  1735.400739   \n",
       "..         ...          ...           ...           ...          ...   \n",
       "367 2016-12-26  6393.835256  10114.006130  14661.434777  6393.834525   \n",
       "368 2016-12-27  6404.874200  10147.208720  14580.775716  6404.873467   \n",
       "369 2016-12-28  6415.913145  10001.299586  14414.481454  6415.912408   \n",
       "370 2016-12-29  6426.952089  10014.276600  14480.577877  6426.951349   \n",
       "371 2016-12-30  6437.991033  10039.381110  14528.187187  6437.990291   \n",
       "\n",
       "     trend_upper  additive_terms  additive_terms_lower  additive_terms_upper  \\\n",
       "0     377.610583     5912.235169           5912.235169           5912.235169   \n",
       "1     719.817857     5912.235169           5912.235169           5912.235169   \n",
       "2    1062.025132     5912.235169           5912.235169           5912.235169   \n",
       "3    1393.193463     5912.235169           5912.235169           5912.235169   \n",
       "4    1735.400739     5912.235169           5912.235169           5912.235169   \n",
       "..           ...             ...                   ...                   ...   \n",
       "367  6393.835998     5912.235169           5912.235169           5912.235169   \n",
       "368  6404.874946     5912.235169           5912.235169           5912.235169   \n",
       "369  6415.913893     5912.235169           5912.235169           5912.235169   \n",
       "370  6426.952840     5912.235169           5912.235169           5912.235169   \n",
       "371  6437.991787     5912.235169           5912.235169           5912.235169   \n",
       "\n",
       "           daily  daily_lower  daily_upper  multiplicative_terms  \\\n",
       "0    5912.235169  5912.235169  5912.235169                   0.0   \n",
       "1    5912.235169  5912.235169  5912.235169                   0.0   \n",
       "2    5912.235169  5912.235169  5912.235169                   0.0   \n",
       "3    5912.235169  5912.235169  5912.235169                   0.0   \n",
       "4    5912.235169  5912.235169  5912.235169                   0.0   \n",
       "..           ...          ...          ...                   ...   \n",
       "367  5912.235169  5912.235169  5912.235169                   0.0   \n",
       "368  5912.235169  5912.235169  5912.235169                   0.0   \n",
       "369  5912.235169  5912.235169  5912.235169                   0.0   \n",
       "370  5912.235169  5912.235169  5912.235169                   0.0   \n",
       "371  5912.235169  5912.235169  5912.235169                   0.0   \n",
       "\n",
       "     multiplicative_terms_lower  multiplicative_terms_upper          yhat  \n",
       "0                           0.0                         0.0   6289.845752  \n",
       "1                           0.0                         0.0   6632.053026  \n",
       "2                           0.0                         0.0   6974.260301  \n",
       "3                           0.0                         0.0   7305.428632  \n",
       "4                           0.0                         0.0   7647.635908  \n",
       "..                          ...                         ...           ...  \n",
       "367                         0.0                         0.0  12306.070425  \n",
       "368                         0.0                         0.0  12317.109370  \n",
       "369                         0.0                         0.0  12328.148314  \n",
       "370                         0.0                         0.0  12339.187258  \n",
       "371                         0.0                         0.0  12350.226203  \n",
       "\n",
       "[372 rows x 16 columns]"
      ],
      "text/html": [
       "<div>\n",
       "<style scoped>\n",
       "    .dataframe tbody tr th:only-of-type {\n",
       "        vertical-align: middle;\n",
       "    }\n",
       "\n",
       "    .dataframe tbody tr th {\n",
       "        vertical-align: top;\n",
       "    }\n",
       "\n",
       "    .dataframe thead th {\n",
       "        text-align: right;\n",
       "    }\n",
       "</style>\n",
       "<table border=\"1\" class=\"dataframe\">\n",
       "  <thead>\n",
       "    <tr style=\"text-align: right;\">\n",
       "      <th></th>\n",
       "      <th>ds</th>\n",
       "      <th>trend</th>\n",
       "      <th>yhat_lower</th>\n",
       "      <th>yhat_upper</th>\n",
       "      <th>trend_lower</th>\n",
       "      <th>trend_upper</th>\n",
       "      <th>additive_terms</th>\n",
       "      <th>additive_terms_lower</th>\n",
       "      <th>additive_terms_upper</th>\n",
       "      <th>daily</th>\n",
       "      <th>daily_lower</th>\n",
       "      <th>daily_upper</th>\n",
       "      <th>multiplicative_terms</th>\n",
       "      <th>multiplicative_terms_lower</th>\n",
       "      <th>multiplicative_terms_upper</th>\n",
       "      <th>yhat</th>\n",
       "    </tr>\n",
       "  </thead>\n",
       "  <tbody>\n",
       "    <tr>\n",
       "      <th>0</th>\n",
       "      <td>2015-06-30</td>\n",
       "      <td>377.610583</td>\n",
       "      <td>4101.189659</td>\n",
       "      <td>8367.665542</td>\n",
       "      <td>377.610583</td>\n",
       "      <td>377.610583</td>\n",
       "      <td>5912.235169</td>\n",
       "      <td>5912.235169</td>\n",
       "      <td>5912.235169</td>\n",
       "      <td>5912.235169</td>\n",
       "      <td>5912.235169</td>\n",
       "      <td>5912.235169</td>\n",
       "      <td>0.0</td>\n",
       "      <td>0.0</td>\n",
       "      <td>0.0</td>\n",
       "      <td>6289.845752</td>\n",
       "    </tr>\n",
       "    <tr>\n",
       "      <th>1</th>\n",
       "      <td>2015-07-31</td>\n",
       "      <td>719.817857</td>\n",
       "      <td>4353.934645</td>\n",
       "      <td>8964.711172</td>\n",
       "      <td>719.817857</td>\n",
       "      <td>719.817857</td>\n",
       "      <td>5912.235169</td>\n",
       "      <td>5912.235169</td>\n",
       "      <td>5912.235169</td>\n",
       "      <td>5912.235169</td>\n",
       "      <td>5912.235169</td>\n",
       "      <td>5912.235169</td>\n",
       "      <td>0.0</td>\n",
       "      <td>0.0</td>\n",
       "      <td>0.0</td>\n",
       "      <td>6632.053026</td>\n",
       "    </tr>\n",
       "    <tr>\n",
       "      <th>2</th>\n",
       "      <td>2015-08-31</td>\n",
       "      <td>1062.025132</td>\n",
       "      <td>4815.493711</td>\n",
       "      <td>9157.575705</td>\n",
       "      <td>1062.025132</td>\n",
       "      <td>1062.025132</td>\n",
       "      <td>5912.235169</td>\n",
       "      <td>5912.235169</td>\n",
       "      <td>5912.235169</td>\n",
       "      <td>5912.235169</td>\n",
       "      <td>5912.235169</td>\n",
       "      <td>5912.235169</td>\n",
       "      <td>0.0</td>\n",
       "      <td>0.0</td>\n",
       "      <td>0.0</td>\n",
       "      <td>6974.260301</td>\n",
       "    </tr>\n",
       "    <tr>\n",
       "      <th>3</th>\n",
       "      <td>2015-09-30</td>\n",
       "      <td>1393.193463</td>\n",
       "      <td>5066.136880</td>\n",
       "      <td>9674.406261</td>\n",
       "      <td>1393.193463</td>\n",
       "      <td>1393.193463</td>\n",
       "      <td>5912.235169</td>\n",
       "      <td>5912.235169</td>\n",
       "      <td>5912.235169</td>\n",
       "      <td>5912.235169</td>\n",
       "      <td>5912.235169</td>\n",
       "      <td>5912.235169</td>\n",
       "      <td>0.0</td>\n",
       "      <td>0.0</td>\n",
       "      <td>0.0</td>\n",
       "      <td>7305.428632</td>\n",
       "    </tr>\n",
       "    <tr>\n",
       "      <th>4</th>\n",
       "      <td>2015-10-31</td>\n",
       "      <td>1735.400739</td>\n",
       "      <td>5484.038908</td>\n",
       "      <td>9903.043784</td>\n",
       "      <td>1735.400739</td>\n",
       "      <td>1735.400739</td>\n",
       "      <td>5912.235169</td>\n",
       "      <td>5912.235169</td>\n",
       "      <td>5912.235169</td>\n",
       "      <td>5912.235169</td>\n",
       "      <td>5912.235169</td>\n",
       "      <td>5912.235169</td>\n",
       "      <td>0.0</td>\n",
       "      <td>0.0</td>\n",
       "      <td>0.0</td>\n",
       "      <td>7647.635908</td>\n",
       "    </tr>\n",
       "    <tr>\n",
       "      <th>...</th>\n",
       "      <td>...</td>\n",
       "      <td>...</td>\n",
       "      <td>...</td>\n",
       "      <td>...</td>\n",
       "      <td>...</td>\n",
       "      <td>...</td>\n",
       "      <td>...</td>\n",
       "      <td>...</td>\n",
       "      <td>...</td>\n",
       "      <td>...</td>\n",
       "      <td>...</td>\n",
       "      <td>...</td>\n",
       "      <td>...</td>\n",
       "      <td>...</td>\n",
       "      <td>...</td>\n",
       "      <td>...</td>\n",
       "    </tr>\n",
       "    <tr>\n",
       "      <th>367</th>\n",
       "      <td>2016-12-26</td>\n",
       "      <td>6393.835256</td>\n",
       "      <td>10114.006130</td>\n",
       "      <td>14661.434777</td>\n",
       "      <td>6393.834525</td>\n",
       "      <td>6393.835998</td>\n",
       "      <td>5912.235169</td>\n",
       "      <td>5912.235169</td>\n",
       "      <td>5912.235169</td>\n",
       "      <td>5912.235169</td>\n",
       "      <td>5912.235169</td>\n",
       "      <td>5912.235169</td>\n",
       "      <td>0.0</td>\n",
       "      <td>0.0</td>\n",
       "      <td>0.0</td>\n",
       "      <td>12306.070425</td>\n",
       "    </tr>\n",
       "    <tr>\n",
       "      <th>368</th>\n",
       "      <td>2016-12-27</td>\n",
       "      <td>6404.874200</td>\n",
       "      <td>10147.208720</td>\n",
       "      <td>14580.775716</td>\n",
       "      <td>6404.873467</td>\n",
       "      <td>6404.874946</td>\n",
       "      <td>5912.235169</td>\n",
       "      <td>5912.235169</td>\n",
       "      <td>5912.235169</td>\n",
       "      <td>5912.235169</td>\n",
       "      <td>5912.235169</td>\n",
       "      <td>5912.235169</td>\n",
       "      <td>0.0</td>\n",
       "      <td>0.0</td>\n",
       "      <td>0.0</td>\n",
       "      <td>12317.109370</td>\n",
       "    </tr>\n",
       "    <tr>\n",
       "      <th>369</th>\n",
       "      <td>2016-12-28</td>\n",
       "      <td>6415.913145</td>\n",
       "      <td>10001.299586</td>\n",
       "      <td>14414.481454</td>\n",
       "      <td>6415.912408</td>\n",
       "      <td>6415.913893</td>\n",
       "      <td>5912.235169</td>\n",
       "      <td>5912.235169</td>\n",
       "      <td>5912.235169</td>\n",
       "      <td>5912.235169</td>\n",
       "      <td>5912.235169</td>\n",
       "      <td>5912.235169</td>\n",
       "      <td>0.0</td>\n",
       "      <td>0.0</td>\n",
       "      <td>0.0</td>\n",
       "      <td>12328.148314</td>\n",
       "    </tr>\n",
       "    <tr>\n",
       "      <th>370</th>\n",
       "      <td>2016-12-29</td>\n",
       "      <td>6426.952089</td>\n",
       "      <td>10014.276600</td>\n",
       "      <td>14480.577877</td>\n",
       "      <td>6426.951349</td>\n",
       "      <td>6426.952840</td>\n",
       "      <td>5912.235169</td>\n",
       "      <td>5912.235169</td>\n",
       "      <td>5912.235169</td>\n",
       "      <td>5912.235169</td>\n",
       "      <td>5912.235169</td>\n",
       "      <td>5912.235169</td>\n",
       "      <td>0.0</td>\n",
       "      <td>0.0</td>\n",
       "      <td>0.0</td>\n",
       "      <td>12339.187258</td>\n",
       "    </tr>\n",
       "    <tr>\n",
       "      <th>371</th>\n",
       "      <td>2016-12-30</td>\n",
       "      <td>6437.991033</td>\n",
       "      <td>10039.381110</td>\n",
       "      <td>14528.187187</td>\n",
       "      <td>6437.990291</td>\n",
       "      <td>6437.991787</td>\n",
       "      <td>5912.235169</td>\n",
       "      <td>5912.235169</td>\n",
       "      <td>5912.235169</td>\n",
       "      <td>5912.235169</td>\n",
       "      <td>5912.235169</td>\n",
       "      <td>5912.235169</td>\n",
       "      <td>0.0</td>\n",
       "      <td>0.0</td>\n",
       "      <td>0.0</td>\n",
       "      <td>12350.226203</td>\n",
       "    </tr>\n",
       "  </tbody>\n",
       "</table>\n",
       "<p>372 rows × 16 columns</p>\n",
       "</div>"
      ]
     },
     "metadata": {},
     "execution_count": 116
    }
   ],
   "metadata": {}
  },
  {
   "cell_type": "code",
   "execution_count": 117,
   "source": [
    "predict_2016 = './predictions/2016_forecast.csv'\r\n",
    "forecast.to_csv(predict_2016)\r\n"
   ],
   "outputs": [],
   "metadata": {}
  },
  {
   "cell_type": "code",
   "execution_count": 118,
   "source": [
    "plot1 = m.plot(forecast)\r\n",
    "plot2 = m.plot_components(forecast)"
   ],
   "outputs": [
    {
     "output_type": "display_data",
     "data": {
      "text/plain": [
       "<Figure size 720x432 with 1 Axes>"
      ],
      "image/png": "[encoded data removed]"
     },
     "metadata": {}
    },
    {
     "output_type": "display_data",
     "data": {
      "text/plain": [
       "<Figure size 648x432 with 2 Axes>"
      ],
      "image/png": "[encoded data removed]"
     },
     "metadata": {}
    }
   ],
   "metadata": {}
  }
 ],
 "metadata": {
  "kernelspec": {
   "name": "python3",
   "display_name": "Python 3.7.10 64-bit ('base': conda)"
  },
  "language_info": {
   "codemirror_mode": {
    "name": "ipython",
    "version": 3
   },
   "file_extension": ".py",
   "mimetype": "text/x-python",
   "name": "python",
   "nbconvert_exporter": "python",
   "pygments_lexer": "ipython3",
   "version": "3.7.10"
  },
  "interpreter": {
   "hash": "b3ba2566441a7c06988d0923437866b63cedc61552a5af99d1f4fb67d367b25f"
  }
 },
 "nbformat": 4,
 "nbformat_minor": 1
}